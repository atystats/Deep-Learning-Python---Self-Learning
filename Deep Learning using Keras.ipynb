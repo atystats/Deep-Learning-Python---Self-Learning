{
 "cells": [
  {
   "cell_type": "markdown",
   "metadata": {},
   "source": [
    "# Deep Learning using Python\n",
    "\n",
    "## A Neural Network using Keras\n",
    "\n",
    "### Pima Indians Onset of Diabetes Dataset"
   ]
  },
  {
   "cell_type": "code",
   "execution_count": 86,
   "metadata": {},
   "outputs": [],
   "source": [
    "# Importing some libraries\n",
    "import pandas as pd\n",
    "import numpy as np\n",
    "\n",
    "# Import keras\n",
    "from keras.models import Sequential \n",
    "from keras.layers import Dense\n",
    "from keras.wrappers.scikit_learn import KerasClassifier, KerasRegressor\n",
    "from keras.utils import np_utils\n",
    "\n",
    "# Import from sklearn\n",
    "from sklearn.model_selection import train_test_split, StratifiedKFold, cross_val_score, GridSearchCV, KFold\n",
    "from sklearn.preprocessing import LabelEncoder, StandardScaler\n",
    "from sklearn.pipeline import Pipeline"
   ]
  },
  {
   "cell_type": "code",
   "execution_count": 2,
   "metadata": {},
   "outputs": [
    {
     "data": {
      "text/plain": [
       "(768, 9)"
      ]
     },
     "execution_count": 2,
     "metadata": {},
     "output_type": "execute_result"
    }
   ],
   "source": [
    "url = \"https://raw.githubusercontent.com/atystats/ISLR_Notes_codes/master/Datasets/pima-indians-diabetes.csv\"\n",
    "pima_data = pd.read_csv(url, header = None)\n",
    "pima_data.shape"
   ]
  },
  {
   "cell_type": "code",
   "execution_count": 36,
   "metadata": {},
   "outputs": [],
   "source": [
    "#Setting a random seed\n",
    "seed = 7\n",
    "np.random.seed(seed)\n",
    "\n",
    "# Seperating predictors and response variable.\n",
    "X = pima_data.iloc[:,0:8]\n",
    "y = pima_data.iloc[:,8]"
   ]
  },
  {
   "cell_type": "markdown",
   "metadata": {},
   "source": [
    "Now we will create our model :-\n",
    "\n",
    "1. We have 8 input neurons corresponding to 8 input variables.\n",
    "2. weight intilization will be done using a uniform distribution.\n",
    "3. For the hidden layers we will use 'relu' activation function.\n",
    "4. For output layer we will use 'sigmoid' activation function.\n"
   ]
  },
  {
   "cell_type": "code",
   "execution_count": 29,
   "metadata": {},
   "outputs": [],
   "source": [
    "# Create model \n",
    "model = Sequential()\n",
    "# First hidden layer with 12 neurons.\n",
    "model.add(Dense(12, input_dim = 8, kernel_initializer = 'uniform', activation = 'relu'))\n",
    "# Second hidden layer with 8 neurons\n",
    "model.add(Dense(8, kernel_initializer = 'uniform', activation = 'relu'))\n",
    "# Output layer with 11 neuron.\n",
    "model.add(Dense(1, kernel_initializer = 'uniform', activation = 'sigmoid'))"
   ]
  },
  {
   "cell_type": "code",
   "execution_count": 30,
   "metadata": {},
   "outputs": [],
   "source": [
    "# Compile model\n",
    "model.compile(loss = 'binary_crossentropy', optimizer = 'adam', metrics = ['accuracy'])"
   ]
  },
  {
   "cell_type": "code",
   "execution_count": 31,
   "metadata": {},
   "outputs": [
    {
     "name": "stdout",
     "output_type": "stream",
     "text": [
      "Epoch 1/150\n",
      "768/768 [==============================] - 1s 1ms/step - loss: 0.6750 - accuracy: 0.6510\n",
      "Epoch 2/150\n",
      "768/768 [==============================] - 0s 247us/step - loss: 0.6558 - accuracy: 0.6510\n",
      "Epoch 3/150\n",
      "768/768 [==============================] - 0s 244us/step - loss: 0.6408 - accuracy: 0.6393\n",
      "Epoch 4/150\n",
      "768/768 [==============================] - 0s 244us/step - loss: 0.6267 - accuracy: 0.6576\n",
      "Epoch 5/150\n",
      "768/768 [==============================] - 0s 242us/step - loss: 0.6169 - accuracy: 0.6888\n",
      "Epoch 6/150\n",
      "768/768 [==============================] - 0s 231us/step - loss: 0.5998 - accuracy: 0.6771\n",
      "Epoch 7/150\n",
      "768/768 [==============================] - 0s 229us/step - loss: 0.6028 - accuracy: 0.6810\n",
      "Epoch 8/150\n",
      "768/768 [==============================] - 0s 233us/step - loss: 0.5958 - accuracy: 0.7018\n",
      "Epoch 9/150\n",
      "768/768 [==============================] - 0s 241us/step - loss: 0.5910 - accuracy: 0.6875\n",
      "Epoch 10/150\n",
      "768/768 [==============================] - 0s 229us/step - loss: 0.5956 - accuracy: 0.6901\n",
      "Epoch 11/150\n",
      "768/768 [==============================] - 0s 255us/step - loss: 0.5891 - accuracy: 0.6836\n",
      "Epoch 12/150\n",
      "768/768 [==============================] - 0s 293us/step - loss: 0.5880 - accuracy: 0.6914\n",
      "Epoch 13/150\n",
      "768/768 [==============================] - 0s 275us/step - loss: 0.5849 - accuracy: 0.6862\n",
      "Epoch 14/150\n",
      "768/768 [==============================] - 0s 233us/step - loss: 0.5827 - accuracy: 0.6953\n",
      "Epoch 15/150\n",
      "768/768 [==============================] - 0s 237us/step - loss: 0.5778 - accuracy: 0.6992\n",
      "Epoch 16/150\n",
      "768/768 [==============================] - 0s 234us/step - loss: 0.5778 - accuracy: 0.6966\n",
      "Epoch 17/150\n",
      "768/768 [==============================] - 0s 256us/step - loss: 0.5763 - accuracy: 0.7044\n",
      "Epoch 18/150\n",
      "768/768 [==============================] - 0s 274us/step - loss: 0.5817 - accuracy: 0.6914\n",
      "Epoch 19/150\n",
      "768/768 [==============================] - ETA: 0s - loss: 0.5841 - accuracy: 0.69 - 0s 259us/step - loss: 0.5741 - accuracy: 0.7044\n",
      "Epoch 20/150\n",
      "768/768 [==============================] - 0s 273us/step - loss: 0.5740 - accuracy: 0.6979\n",
      "Epoch 21/150\n",
      "768/768 [==============================] - 0s 250us/step - loss: 0.5688 - accuracy: 0.7070\n",
      "Epoch 22/150\n",
      "768/768 [==============================] - 0s 265us/step - loss: 0.5726 - accuracy: 0.7005\n",
      "Epoch 23/150\n",
      "768/768 [==============================] - 0s 262us/step - loss: 0.5668 - accuracy: 0.7240\n",
      "Epoch 24/150\n",
      "768/768 [==============================] - 0s 260us/step - loss: 0.5744 - accuracy: 0.7031\n",
      "Epoch 25/150\n",
      "768/768 [==============================] - 0s 250us/step - loss: 0.5616 - accuracy: 0.7135\n",
      "Epoch 26/150\n",
      "768/768 [==============================] - 0s 229us/step - loss: 0.5745 - accuracy: 0.7018\n",
      "Epoch 27/150\n",
      "768/768 [==============================] - 0s 231us/step - loss: 0.5676 - accuracy: 0.6914\n",
      "Epoch 28/150\n",
      "768/768 [==============================] - 0s 243us/step - loss: 0.5574 - accuracy: 0.7201\n",
      "Epoch 29/150\n",
      "768/768 [==============================] - 0s 235us/step - loss: 0.5616 - accuracy: 0.7135\n",
      "Epoch 30/150\n",
      "768/768 [==============================] - 0s 230us/step - loss: 0.5589 - accuracy: 0.7109\n",
      "Epoch 31/150\n",
      "768/768 [==============================] - 0s 254us/step - loss: 0.5580 - accuracy: 0.7096\n",
      "Epoch 32/150\n",
      "768/768 [==============================] - 0s 281us/step - loss: 0.5541 - accuracy: 0.7227\n",
      "Epoch 33/150\n",
      "768/768 [==============================] - 0s 278us/step - loss: 0.5508 - accuracy: 0.7253\n",
      "Epoch 34/150\n",
      "768/768 [==============================] - 0s 271us/step - loss: 0.5538 - accuracy: 0.7188\n",
      "Epoch 35/150\n",
      "768/768 [==============================] - 0s 253us/step - loss: 0.5485 - accuracy: 0.7292\n",
      "Epoch 36/150\n",
      "768/768 [==============================] - 0s 245us/step - loss: 0.5463 - accuracy: 0.7214\n",
      "Epoch 37/150\n",
      "768/768 [==============================] - 0s 231us/step - loss: 0.5429 - accuracy: 0.7266\n",
      "Epoch 38/150\n",
      "768/768 [==============================] - 0s 238us/step - loss: 0.5505 - accuracy: 0.7240\n",
      "Epoch 39/150\n",
      "768/768 [==============================] - 0s 236us/step - loss: 0.5428 - accuracy: 0.7318\n",
      "Epoch 40/150\n",
      "768/768 [==============================] - 0s 235us/step - loss: 0.5437 - accuracy: 0.7227\n",
      "Epoch 41/150\n",
      "768/768 [==============================] - 0s 276us/step - loss: 0.5398 - accuracy: 0.7318\n",
      "Epoch 42/150\n",
      "768/768 [==============================] - 0s 289us/step - loss: 0.5408 - accuracy: 0.7292\n",
      "Epoch 43/150\n",
      "768/768 [==============================] - 0s 302us/step - loss: 0.5314 - accuracy: 0.7344\n",
      "Epoch 44/150\n",
      "768/768 [==============================] - 0s 309us/step - loss: 0.5343 - accuracy: 0.7526\n",
      "Epoch 45/150\n",
      "768/768 [==============================] - 0s 252us/step - loss: 0.5331 - accuracy: 0.7396\n",
      "Epoch 46/150\n",
      "768/768 [==============================] - 0s 233us/step - loss: 0.5263 - accuracy: 0.7344\n",
      "Epoch 47/150\n",
      "768/768 [==============================] - 0s 235us/step - loss: 0.5271 - accuracy: 0.7461\n",
      "Epoch 48/150\n",
      "768/768 [==============================] - 0s 232us/step - loss: 0.5270 - accuracy: 0.7422\n",
      "Epoch 49/150\n",
      "768/768 [==============================] - 0s 238us/step - loss: 0.5193 - accuracy: 0.7513\n",
      "Epoch 50/150\n",
      "768/768 [==============================] - 0s 238us/step - loss: 0.5213 - accuracy: 0.7422\n",
      "Epoch 51/150\n",
      "768/768 [==============================] - 0s 277us/step - loss: 0.5189 - accuracy: 0.7370\n",
      "Epoch 52/150\n",
      "768/768 [==============================] - 0s 292us/step - loss: 0.5258 - accuracy: 0.7370\n",
      "Epoch 53/150\n",
      "768/768 [==============================] - 0s 331us/step - loss: 0.5188 - accuracy: 0.7344\n",
      "Epoch 54/150\n",
      "768/768 [==============================] - 0s 282us/step - loss: 0.5186 - accuracy: 0.7474\n",
      "Epoch 55/150\n",
      "768/768 [==============================] - 0s 244us/step - loss: 0.5156 - accuracy: 0.7617\n",
      "Epoch 56/150\n",
      "768/768 [==============================] - 0s 228us/step - loss: 0.5169 - accuracy: 0.7591\n",
      "Epoch 57/150\n",
      "768/768 [==============================] - 0s 232us/step - loss: 0.5123 - accuracy: 0.7539\n",
      "Epoch 58/150\n",
      "768/768 [==============================] - 0s 246us/step - loss: 0.5137 - accuracy: 0.7422\n",
      "Epoch 59/150\n",
      "768/768 [==============================] - 0s 234us/step - loss: 0.5091 - accuracy: 0.7539\n",
      "Epoch 60/150\n",
      "768/768 [==============================] - 0s 226us/step - loss: 0.5121 - accuracy: 0.7474\n",
      "Epoch 61/150\n",
      "768/768 [==============================] - 0s 222us/step - loss: 0.5035 - accuracy: 0.7500\n",
      "Epoch 62/150\n",
      "768/768 [==============================] - 0s 223us/step - loss: 0.5082 - accuracy: 0.7448\n",
      "Epoch 63/150\n",
      "768/768 [==============================] - 0s 240us/step - loss: 0.5167 - accuracy: 0.7617\n",
      "Epoch 64/150\n",
      "768/768 [==============================] - 0s 232us/step - loss: 0.5101 - accuracy: 0.7539\n",
      "Epoch 65/150\n",
      "768/768 [==============================] - 0s 244us/step - loss: 0.5055 - accuracy: 0.7604\n",
      "Epoch 66/150\n",
      "768/768 [==============================] - 0s 231us/step - loss: 0.4995 - accuracy: 0.7591\n",
      "Epoch 67/150\n",
      "768/768 [==============================] - 0s 244us/step - loss: 0.4974 - accuracy: 0.7500\n",
      "Epoch 68/150\n",
      "768/768 [==============================] - 0s 301us/step - loss: 0.5041 - accuracy: 0.7552\n",
      "Epoch 69/150\n",
      "768/768 [==============================] - 0s 309us/step - loss: 0.4962 - accuracy: 0.7513\n",
      "Epoch 70/150\n",
      "768/768 [==============================] - 0s 336us/step - loss: 0.5097 - accuracy: 0.7435\n",
      "Epoch 71/150\n",
      "768/768 [==============================] - 0s 265us/step - loss: 0.5010 - accuracy: 0.7656\n",
      "Epoch 72/150\n",
      "768/768 [==============================] - 0s 244us/step - loss: 0.4989 - accuracy: 0.7604\n",
      "Epoch 73/150\n",
      "768/768 [==============================] - 0s 241us/step - loss: 0.4930 - accuracy: 0.7643\n",
      "Epoch 74/150\n",
      "768/768 [==============================] - 0s 250us/step - loss: 0.4966 - accuracy: 0.7539\n",
      "Epoch 75/150\n",
      "768/768 [==============================] - 0s 248us/step - loss: 0.4959 - accuracy: 0.7578\n",
      "Epoch 76/150\n",
      "768/768 [==============================] - 0s 255us/step - loss: 0.4906 - accuracy: 0.7630\n",
      "Epoch 77/150\n",
      "768/768 [==============================] - 0s 243us/step - loss: 0.4930 - accuracy: 0.7565\n",
      "Epoch 78/150\n",
      "768/768 [==============================] - 0s 238us/step - loss: 0.4905 - accuracy: 0.7682\n",
      "Epoch 79/150\n",
      "768/768 [==============================] - 0s 256us/step - loss: 0.4999 - accuracy: 0.7474\n",
      "Epoch 80/150\n",
      "768/768 [==============================] - 0s 267us/step - loss: 0.4895 - accuracy: 0.7747\n",
      "Epoch 81/150\n",
      "768/768 [==============================] - 0s 269us/step - loss: 0.4870 - accuracy: 0.7669\n",
      "Epoch 82/150\n",
      "768/768 [==============================] - 0s 244us/step - loss: 0.4869 - accuracy: 0.7721\n",
      "Epoch 83/150\n",
      "768/768 [==============================] - 0s 305us/step - loss: 0.4857 - accuracy: 0.7630\n",
      "Epoch 84/150\n",
      "768/768 [==============================] - 0s 281us/step - loss: 0.4821 - accuracy: 0.7747\n",
      "Epoch 85/150\n",
      "768/768 [==============================] - 0s 235us/step - loss: 0.4868 - accuracy: 0.7656\n",
      "Epoch 86/150\n",
      "768/768 [==============================] - 0s 242us/step - loss: 0.4954 - accuracy: 0.7526\n",
      "Epoch 87/150\n",
      "768/768 [==============================] - 0s 237us/step - loss: 0.4846 - accuracy: 0.7760\n",
      "Epoch 88/150\n",
      "768/768 [==============================] - 0s 236us/step - loss: 0.4809 - accuracy: 0.7630\n",
      "Epoch 89/150\n",
      "768/768 [==============================] - 0s 239us/step - loss: 0.4855 - accuracy: 0.7721\n",
      "Epoch 90/150\n",
      "768/768 [==============================] - 0s 238us/step - loss: 0.4865 - accuracy: 0.7747\n",
      "Epoch 91/150\n",
      "768/768 [==============================] - 0s 233us/step - loss: 0.4770 - accuracy: 0.7695\n",
      "Epoch 92/150\n",
      "768/768 [==============================] - 0s 235us/step - loss: 0.4842 - accuracy: 0.7643\n",
      "Epoch 93/150\n",
      "768/768 [==============================] - 0s 237us/step - loss: 0.4784 - accuracy: 0.7773\n",
      "Epoch 94/150\n",
      "768/768 [==============================] - 0s 240us/step - loss: 0.4812 - accuracy: 0.7630\n",
      "Epoch 95/150\n",
      "768/768 [==============================] - 0s 233us/step - loss: 0.4760 - accuracy: 0.7591\n",
      "Epoch 96/150\n",
      "768/768 [==============================] - 0s 238us/step - loss: 0.4758 - accuracy: 0.7786\n",
      "Epoch 97/150\n",
      "768/768 [==============================] - 0s 242us/step - loss: 0.4761 - accuracy: 0.7695\n",
      "Epoch 98/150\n",
      "768/768 [==============================] - 0s 244us/step - loss: 0.4743 - accuracy: 0.7878\n",
      "Epoch 99/150\n",
      "768/768 [==============================] - 0s 234us/step - loss: 0.4697 - accuracy: 0.7839\n",
      "Epoch 100/150\n",
      "768/768 [==============================] - 0s 246us/step - loss: 0.4675 - accuracy: 0.7865\n",
      "Epoch 101/150\n",
      "768/768 [==============================] - 0s 247us/step - loss: 0.4743 - accuracy: 0.7786\n",
      "Epoch 102/150\n",
      "768/768 [==============================] - 0s 240us/step - loss: 0.4737 - accuracy: 0.7760\n",
      "Epoch 103/150\n",
      "768/768 [==============================] - 0s 245us/step - loss: 0.4816 - accuracy: 0.7617\n",
      "Epoch 104/150\n",
      "768/768 [==============================] - 0s 241us/step - loss: 0.4723 - accuracy: 0.7799\n",
      "Epoch 105/150\n",
      "768/768 [==============================] - 0s 244us/step - loss: 0.4918 - accuracy: 0.7630\n",
      "Epoch 106/150\n",
      "768/768 [==============================] - 0s 237us/step - loss: 0.4663 - accuracy: 0.7839\n",
      "Epoch 107/150\n",
      "768/768 [==============================] - 0s 230us/step - loss: 0.4712 - accuracy: 0.7734\n",
      "Epoch 108/150\n",
      "768/768 [==============================] - 0s 234us/step - loss: 0.4759 - accuracy: 0.7773\n",
      "Epoch 109/150\n",
      "768/768 [==============================] - 0s 230us/step - loss: 0.4640 - accuracy: 0.7721\n",
      "Epoch 110/150\n",
      "768/768 [==============================] - 0s 225us/step - loss: 0.4660 - accuracy: 0.7721\n",
      "Epoch 111/150\n",
      "768/768 [==============================] - 0s 237us/step - loss: 0.4677 - accuracy: 0.7943\n",
      "Epoch 112/150\n",
      "768/768 [==============================] - 0s 244us/step - loss: 0.4662 - accuracy: 0.7695\n",
      "Epoch 113/150\n",
      "768/768 [==============================] - 0s 232us/step - loss: 0.4769 - accuracy: 0.7760\n",
      "Epoch 114/150\n",
      "768/768 [==============================] - 0s 236us/step - loss: 0.4755 - accuracy: 0.7591\n",
      "Epoch 115/150\n",
      "768/768 [==============================] - 0s 232us/step - loss: 0.4663 - accuracy: 0.7721\n",
      "Epoch 116/150\n",
      "768/768 [==============================] - 0s 255us/step - loss: 0.4762 - accuracy: 0.7773\n",
      "Epoch 117/150\n",
      "768/768 [==============================] - 0s 269us/step - loss: 0.4639 - accuracy: 0.7734\n",
      "Epoch 118/150\n",
      "768/768 [==============================] - 0s 237us/step - loss: 0.4707 - accuracy: 0.7734\n",
      "Epoch 119/150\n",
      "768/768 [==============================] - 0s 235us/step - loss: 0.4630 - accuracy: 0.7839\n",
      "Epoch 120/150\n",
      "768/768 [==============================] - 0s 239us/step - loss: 0.4672 - accuracy: 0.7773\n",
      "Epoch 121/150\n",
      "768/768 [==============================] - 0s 234us/step - loss: 0.4695 - accuracy: 0.7930\n",
      "Epoch 122/150\n",
      "768/768 [==============================] - 0s 246us/step - loss: 0.4625 - accuracy: 0.7760\n",
      "Epoch 123/150\n",
      "768/768 [==============================] - 0s 230us/step - loss: 0.4641 - accuracy: 0.7656\n",
      "Epoch 124/150\n",
      "768/768 [==============================] - 0s 239us/step - loss: 0.4594 - accuracy: 0.7760\n",
      "Epoch 125/150\n",
      "768/768 [==============================] - 0s 233us/step - loss: 0.4652 - accuracy: 0.7747\n",
      "Epoch 126/150\n",
      "768/768 [==============================] - 0s 247us/step - loss: 0.4600 - accuracy: 0.7812\n",
      "Epoch 127/150\n",
      "768/768 [==============================] - 0s 286us/step - loss: 0.4689 - accuracy: 0.7669\n",
      "Epoch 128/150\n",
      "768/768 [==============================] - 0s 237us/step - loss: 0.4545 - accuracy: 0.7708\n",
      "Epoch 129/150\n",
      "768/768 [==============================] - 0s 230us/step - loss: 0.4677 - accuracy: 0.7917\n",
      "Epoch 130/150\n",
      "768/768 [==============================] - 0s 273us/step - loss: 0.4556 - accuracy: 0.7773\n",
      "Epoch 131/150\n",
      "768/768 [==============================] - 0s 279us/step - loss: 0.4651 - accuracy: 0.7878\n",
      "Epoch 132/150\n",
      "768/768 [==============================] - 0s 233us/step - loss: 0.4592 - accuracy: 0.7786\n",
      "Epoch 133/150\n",
      "768/768 [==============================] - 0s 231us/step - loss: 0.4658 - accuracy: 0.7682\n",
      "Epoch 134/150\n",
      "768/768 [==============================] - 0s 230us/step - loss: 0.4618 - accuracy: 0.7617\n",
      "Epoch 135/150\n",
      "768/768 [==============================] - 0s 227us/step - loss: 0.4619 - accuracy: 0.7721\n",
      "Epoch 136/150\n",
      "768/768 [==============================] - 0s 231us/step - loss: 0.4599 - accuracy: 0.7773\n",
      "Epoch 137/150\n",
      "768/768 [==============================] - 0s 240us/step - loss: 0.4621 - accuracy: 0.7852\n",
      "Epoch 138/150\n",
      "768/768 [==============================] - 0s 259us/step - loss: 0.4656 - accuracy: 0.7812\n",
      "Epoch 139/150\n",
      "768/768 [==============================] - 0s 233us/step - loss: 0.4498 - accuracy: 0.7943\n",
      "Epoch 140/150\n",
      "768/768 [==============================] - 0s 231us/step - loss: 0.4598 - accuracy: 0.7812\n",
      "Epoch 141/150\n",
      "768/768 [==============================] - 0s 241us/step - loss: 0.4536 - accuracy: 0.7760\n",
      "Epoch 142/150\n",
      "768/768 [==============================] - 0s 231us/step - loss: 0.4673 - accuracy: 0.7721\n",
      "Epoch 143/150\n",
      "768/768 [==============================] - 0s 236us/step - loss: 0.4594 - accuracy: 0.7695\n",
      "Epoch 144/150\n",
      "768/768 [==============================] - 0s 233us/step - loss: 0.4583 - accuracy: 0.7812\n",
      "Epoch 145/150\n",
      "768/768 [==============================] - 0s 247us/step - loss: 0.4686 - accuracy: 0.7604\n",
      "Epoch 146/150\n",
      "768/768 [==============================] - 0s 242us/step - loss: 0.4594 - accuracy: 0.7799\n",
      "Epoch 147/150\n",
      "768/768 [==============================] - 0s 236us/step - loss: 0.4668 - accuracy: 0.7773\n",
      "Epoch 148/150\n",
      "768/768 [==============================] - 0s 234us/step - loss: 0.4566 - accuracy: 0.7904\n",
      "Epoch 149/150\n",
      "768/768 [==============================] - 0s 243us/step - loss: 0.4630 - accuracy: 0.7708\n",
      "Epoch 150/150\n",
      "768/768 [==============================] - 0s 238us/step - loss: 0.4568 - accuracy: 0.7747\n"
     ]
    },
    {
     "data": {
      "text/plain": [
       "<keras.callbacks.callbacks.History at 0x7fc2a3b1bf60>"
      ]
     },
     "execution_count": 31,
     "metadata": {},
     "output_type": "execute_result"
    }
   ],
   "source": [
    "# Fit the model\n",
    "model.fit(X, y, epochs = 150, batch_size = 10)"
   ]
  },
  {
   "cell_type": "code",
   "execution_count": 35,
   "metadata": {},
   "outputs": [
    {
     "name": "stdout",
     "output_type": "stream",
     "text": [
      "768/768 [==============================] - 0s 30us/step\n",
      "accuracy 78.91%\n"
     ]
    }
   ],
   "source": [
    "scores = model.evaluate(X,y)\n",
    "print(\"%s %.2f%%\" %(model.metrics_names[1], scores[1] * 100))"
   ]
  },
  {
   "cell_type": "markdown",
   "metadata": {},
   "source": [
    "#### Data Splitting using Automatic Verification Dataset"
   ]
  },
  {
   "cell_type": "code",
   "execution_count": 37,
   "metadata": {},
   "outputs": [
    {
     "name": "stdout",
     "output_type": "stream",
     "text": [
      "Train on 514 samples, validate on 254 samples\n",
      "Epoch 1/150\n",
      "514/514 [==============================] - 0s 320us/step - loss: 0.4723 - accuracy: 0.7724 - val_loss: 0.4120 - val_accuracy: 0.8071\n",
      "Epoch 2/150\n",
      "514/514 [==============================] - 0s 284us/step - loss: 0.4695 - accuracy: 0.7743 - val_loss: 0.4452 - val_accuracy: 0.7992\n",
      "Epoch 3/150\n",
      "514/514 [==============================] - 0s 299us/step - loss: 0.4752 - accuracy: 0.7763 - val_loss: 0.4225 - val_accuracy: 0.7874\n",
      "Epoch 4/150\n",
      "514/514 [==============================] - 0s 321us/step - loss: 0.4639 - accuracy: 0.7840 - val_loss: 0.4213 - val_accuracy: 0.8150\n",
      "Epoch 5/150\n",
      "514/514 [==============================] - 0s 318us/step - loss: 0.4878 - accuracy: 0.7743 - val_loss: 0.4350 - val_accuracy: 0.7874\n",
      "Epoch 6/150\n",
      "514/514 [==============================] - 0s 297us/step - loss: 0.4685 - accuracy: 0.7821 - val_loss: 0.4434 - val_accuracy: 0.7953\n",
      "Epoch 7/150\n",
      "514/514 [==============================] - 0s 300us/step - loss: 0.4682 - accuracy: 0.7782 - val_loss: 0.4278 - val_accuracy: 0.8110\n",
      "Epoch 8/150\n",
      "514/514 [==============================] - 0s 284us/step - loss: 0.4612 - accuracy: 0.7802 - val_loss: 0.4296 - val_accuracy: 0.7874\n",
      "Epoch 9/150\n",
      "514/514 [==============================] - 0s 334us/step - loss: 0.4688 - accuracy: 0.7626 - val_loss: 0.4239 - val_accuracy: 0.7992\n",
      "Epoch 10/150\n",
      "514/514 [==============================] - 0s 348us/step - loss: 0.4650 - accuracy: 0.7879 - val_loss: 0.4449 - val_accuracy: 0.7874\n",
      "Epoch 11/150\n",
      "514/514 [==============================] - 0s 333us/step - loss: 0.4692 - accuracy: 0.7802 - val_loss: 0.4300 - val_accuracy: 0.8189\n",
      "Epoch 12/150\n",
      "514/514 [==============================] - 0s 348us/step - loss: 0.4651 - accuracy: 0.7821 - val_loss: 0.4219 - val_accuracy: 0.7992\n",
      "Epoch 13/150\n",
      "514/514 [==============================] - 0s 327us/step - loss: 0.4663 - accuracy: 0.7802 - val_loss: 0.4381 - val_accuracy: 0.8031\n",
      "Epoch 14/150\n",
      "514/514 [==============================] - 0s 318us/step - loss: 0.4619 - accuracy: 0.7763 - val_loss: 0.4443 - val_accuracy: 0.7795\n",
      "Epoch 15/150\n",
      "514/514 [==============================] - 0s 300us/step - loss: 0.4616 - accuracy: 0.7860 - val_loss: 0.4270 - val_accuracy: 0.7913\n",
      "Epoch 16/150\n",
      "514/514 [==============================] - 0s 295us/step - loss: 0.4628 - accuracy: 0.7743 - val_loss: 0.4401 - val_accuracy: 0.7953\n",
      "Epoch 17/150\n",
      "514/514 [==============================] - 0s 298us/step - loss: 0.4645 - accuracy: 0.7763 - val_loss: 0.4350 - val_accuracy: 0.7992\n",
      "Epoch 18/150\n",
      "514/514 [==============================] - 0s 298us/step - loss: 0.4628 - accuracy: 0.7743 - val_loss: 0.4304 - val_accuracy: 0.8110\n",
      "Epoch 19/150\n",
      "514/514 [==============================] - 0s 294us/step - loss: 0.4596 - accuracy: 0.7840 - val_loss: 0.4236 - val_accuracy: 0.8150\n",
      "Epoch 20/150\n",
      "514/514 [==============================] - 0s 302us/step - loss: 0.4571 - accuracy: 0.7860 - val_loss: 0.4412 - val_accuracy: 0.7835\n",
      "Epoch 21/150\n",
      "514/514 [==============================] - 0s 285us/step - loss: 0.4791 - accuracy: 0.7646 - val_loss: 0.4311 - val_accuracy: 0.7992\n",
      "Epoch 22/150\n",
      "514/514 [==============================] - 0s 304us/step - loss: 0.4688 - accuracy: 0.7724 - val_loss: 0.4387 - val_accuracy: 0.7913\n",
      "Epoch 23/150\n",
      "514/514 [==============================] - 0s 321us/step - loss: 0.4617 - accuracy: 0.7665 - val_loss: 0.4363 - val_accuracy: 0.7992\n",
      "Epoch 24/150\n",
      "514/514 [==============================] - 0s 331us/step - loss: 0.4569 - accuracy: 0.7782 - val_loss: 0.4428 - val_accuracy: 0.7874\n",
      "Epoch 25/150\n",
      "514/514 [==============================] - 0s 331us/step - loss: 0.4545 - accuracy: 0.7782 - val_loss: 0.4335 - val_accuracy: 0.8150\n",
      "Epoch 26/150\n",
      "514/514 [==============================] - 0s 323us/step - loss: 0.4621 - accuracy: 0.7821 - val_loss: 0.4283 - val_accuracy: 0.7992\n",
      "Epoch 27/150\n",
      "514/514 [==============================] - 0s 320us/step - loss: 0.4751 - accuracy: 0.7588 - val_loss: 0.4381 - val_accuracy: 0.7835\n",
      "Epoch 28/150\n",
      "514/514 [==============================] - 0s 314us/step - loss: 0.4644 - accuracy: 0.7802 - val_loss: 0.4878 - val_accuracy: 0.7835\n",
      "Epoch 29/150\n",
      "514/514 [==============================] - 0s 328us/step - loss: 0.4569 - accuracy: 0.7763 - val_loss: 0.4410 - val_accuracy: 0.7913\n",
      "Epoch 30/150\n",
      "514/514 [==============================] - 0s 308us/step - loss: 0.4605 - accuracy: 0.7704 - val_loss: 0.4352 - val_accuracy: 0.8031\n",
      "Epoch 31/150\n",
      "514/514 [==============================] - 0s 325us/step - loss: 0.4528 - accuracy: 0.7821 - val_loss: 0.4360 - val_accuracy: 0.7953\n",
      "Epoch 32/150\n",
      "514/514 [==============================] - 0s 325us/step - loss: 0.4484 - accuracy: 0.7821 - val_loss: 0.4509 - val_accuracy: 0.7756\n",
      "Epoch 33/150\n",
      "514/514 [==============================] - 0s 312us/step - loss: 0.4606 - accuracy: 0.7665 - val_loss: 0.4370 - val_accuracy: 0.8071\n",
      "Epoch 34/150\n",
      "514/514 [==============================] - 0s 313us/step - loss: 0.4646 - accuracy: 0.7743 - val_loss: 0.4407 - val_accuracy: 0.8110\n",
      "Epoch 35/150\n",
      "514/514 [==============================] - 0s 332us/step - loss: 0.4677 - accuracy: 0.7782 - val_loss: 0.4610 - val_accuracy: 0.7756\n",
      "Epoch 36/150\n",
      "514/514 [==============================] - 0s 323us/step - loss: 0.4633 - accuracy: 0.7743 - val_loss: 0.4462 - val_accuracy: 0.7992\n",
      "Epoch 37/150\n",
      "514/514 [==============================] - 0s 293us/step - loss: 0.4570 - accuracy: 0.7802 - val_loss: 0.4525 - val_accuracy: 0.7835\n",
      "Epoch 38/150\n",
      "514/514 [==============================] - 0s 295us/step - loss: 0.4682 - accuracy: 0.7704 - val_loss: 0.4486 - val_accuracy: 0.7677\n",
      "Epoch 39/150\n",
      "514/514 [==============================] - 0s 306us/step - loss: 0.4683 - accuracy: 0.7724 - val_loss: 0.4499 - val_accuracy: 0.8071\n",
      "Epoch 40/150\n",
      "514/514 [==============================] - 0s 300us/step - loss: 0.4660 - accuracy: 0.7802 - val_loss: 0.4484 - val_accuracy: 0.7835\n",
      "Epoch 41/150\n",
      "514/514 [==============================] - 0s 299us/step - loss: 0.4581 - accuracy: 0.7782 - val_loss: 0.4449 - val_accuracy: 0.8031\n",
      "Epoch 42/150\n",
      "514/514 [==============================] - 0s 304us/step - loss: 0.4602 - accuracy: 0.7763 - val_loss: 0.4464 - val_accuracy: 0.8031\n",
      "Epoch 43/150\n",
      "514/514 [==============================] - 0s 302us/step - loss: 0.4494 - accuracy: 0.7743 - val_loss: 0.4665 - val_accuracy: 0.8071\n",
      "Epoch 44/150\n",
      "514/514 [==============================] - 0s 296us/step - loss: 0.4559 - accuracy: 0.7802 - val_loss: 0.4404 - val_accuracy: 0.8031\n",
      "Epoch 45/150\n",
      "514/514 [==============================] - 0s 295us/step - loss: 0.4566 - accuracy: 0.7821 - val_loss: 0.4459 - val_accuracy: 0.7992\n",
      "Epoch 46/150\n",
      "514/514 [==============================] - 0s 303us/step - loss: 0.4579 - accuracy: 0.7743 - val_loss: 0.4445 - val_accuracy: 0.8031\n",
      "Epoch 47/150\n",
      "514/514 [==============================] - 0s 299us/step - loss: 0.4733 - accuracy: 0.7685 - val_loss: 0.4571 - val_accuracy: 0.7874\n",
      "Epoch 48/150\n",
      "514/514 [==============================] - 0s 313us/step - loss: 0.4711 - accuracy: 0.7665 - val_loss: 0.4608 - val_accuracy: 0.7874\n",
      "Epoch 49/150\n",
      "514/514 [==============================] - 0s 298us/step - loss: 0.4508 - accuracy: 0.7802 - val_loss: 0.4414 - val_accuracy: 0.7992\n",
      "Epoch 50/150\n",
      "514/514 [==============================] - 0s 296us/step - loss: 0.4502 - accuracy: 0.7860 - val_loss: 0.4496 - val_accuracy: 0.8031\n",
      "Epoch 51/150\n",
      "514/514 [==============================] - 0s 292us/step - loss: 0.4462 - accuracy: 0.7743 - val_loss: 0.4634 - val_accuracy: 0.7992\n",
      "Epoch 52/150\n",
      "514/514 [==============================] - 0s 296us/step - loss: 0.4574 - accuracy: 0.7899 - val_loss: 0.4450 - val_accuracy: 0.7835\n",
      "Epoch 53/150\n",
      "514/514 [==============================] - 0s 293us/step - loss: 0.4526 - accuracy: 0.7899 - val_loss: 0.4542 - val_accuracy: 0.8031\n",
      "Epoch 54/150\n",
      "514/514 [==============================] - 0s 327us/step - loss: 0.4501 - accuracy: 0.7899 - val_loss: 0.4773 - val_accuracy: 0.8031\n",
      "Epoch 55/150\n",
      "514/514 [==============================] - 0s 288us/step - loss: 0.4440 - accuracy: 0.7802 - val_loss: 0.4514 - val_accuracy: 0.7835\n",
      "Epoch 56/150\n",
      "514/514 [==============================] - 0s 300us/step - loss: 0.4507 - accuracy: 0.7821 - val_loss: 0.4598 - val_accuracy: 0.7835\n"
     ]
    },
    {
     "name": "stdout",
     "output_type": "stream",
     "text": [
      "Epoch 57/150\n",
      "514/514 [==============================] - 0s 292us/step - loss: 0.4563 - accuracy: 0.7646 - val_loss: 0.4596 - val_accuracy: 0.8031\n",
      "Epoch 58/150\n",
      "514/514 [==============================] - 0s 290us/step - loss: 0.4592 - accuracy: 0.7802 - val_loss: 0.4517 - val_accuracy: 0.7913\n",
      "Epoch 59/150\n",
      "514/514 [==============================] - 0s 304us/step - loss: 0.4520 - accuracy: 0.7899 - val_loss: 0.4779 - val_accuracy: 0.8031\n",
      "Epoch 60/150\n",
      "514/514 [==============================] - 0s 298us/step - loss: 0.4680 - accuracy: 0.7626 - val_loss: 0.4384 - val_accuracy: 0.7756\n",
      "Epoch 61/150\n",
      "514/514 [==============================] - 0s 300us/step - loss: 0.4552 - accuracy: 0.7724 - val_loss: 0.4529 - val_accuracy: 0.8110\n",
      "Epoch 62/150\n",
      "514/514 [==============================] - 0s 301us/step - loss: 0.4480 - accuracy: 0.7879 - val_loss: 0.4488 - val_accuracy: 0.7913\n",
      "Epoch 63/150\n",
      "514/514 [==============================] - 0s 307us/step - loss: 0.4477 - accuracy: 0.7957 - val_loss: 0.4615 - val_accuracy: 0.7835\n",
      "Epoch 64/150\n",
      "514/514 [==============================] - 0s 310us/step - loss: 0.4460 - accuracy: 0.7763 - val_loss: 0.4507 - val_accuracy: 0.7874\n",
      "Epoch 65/150\n",
      "514/514 [==============================] - 0s 298us/step - loss: 0.4486 - accuracy: 0.7879 - val_loss: 0.4589 - val_accuracy: 0.7835\n",
      "Epoch 66/150\n",
      "514/514 [==============================] - 0s 303us/step - loss: 0.4445 - accuracy: 0.7860 - val_loss: 0.4488 - val_accuracy: 0.8031\n",
      "Epoch 67/150\n",
      "514/514 [==============================] - 0s 298us/step - loss: 0.4565 - accuracy: 0.7879 - val_loss: 0.4504 - val_accuracy: 0.7953\n",
      "Epoch 68/150\n",
      "514/514 [==============================] - 0s 282us/step - loss: 0.4619 - accuracy: 0.7724 - val_loss: 0.4747 - val_accuracy: 0.8031\n",
      "Epoch 69/150\n",
      "514/514 [==============================] - 0s 282us/step - loss: 0.4481 - accuracy: 0.7938 - val_loss: 0.4491 - val_accuracy: 0.7953\n",
      "Epoch 70/150\n",
      "514/514 [==============================] - 0s 285us/step - loss: 0.4531 - accuracy: 0.7704 - val_loss: 0.4617 - val_accuracy: 0.8150\n",
      "Epoch 71/150\n",
      "514/514 [==============================] - 0s 283us/step - loss: 0.4436 - accuracy: 0.7957 - val_loss: 0.4664 - val_accuracy: 0.7992\n",
      "Epoch 72/150\n",
      "514/514 [==============================] - 0s 298us/step - loss: 0.4581 - accuracy: 0.7743 - val_loss: 0.4484 - val_accuracy: 0.8031\n",
      "Epoch 73/150\n",
      "514/514 [==============================] - 0s 285us/step - loss: 0.4430 - accuracy: 0.7938 - val_loss: 0.4563 - val_accuracy: 0.7992\n",
      "Epoch 74/150\n",
      "514/514 [==============================] - 0s 283us/step - loss: 0.4478 - accuracy: 0.7743 - val_loss: 0.4508 - val_accuracy: 0.7953\n",
      "Epoch 75/150\n",
      "514/514 [==============================] - 0s 284us/step - loss: 0.4509 - accuracy: 0.7840 - val_loss: 0.4680 - val_accuracy: 0.7874\n",
      "Epoch 76/150\n",
      "514/514 [==============================] - 0s 293us/step - loss: 0.4459 - accuracy: 0.7918 - val_loss: 0.4477 - val_accuracy: 0.7913\n",
      "Epoch 77/150\n",
      "514/514 [==============================] - 0s 284us/step - loss: 0.4422 - accuracy: 0.7860 - val_loss: 0.4547 - val_accuracy: 0.7992\n",
      "Epoch 78/150\n",
      "514/514 [==============================] - 0s 284us/step - loss: 0.4362 - accuracy: 0.8016 - val_loss: 0.4464 - val_accuracy: 0.7913\n",
      "Epoch 79/150\n",
      "514/514 [==============================] - 0s 286us/step - loss: 0.4530 - accuracy: 0.7743 - val_loss: 0.4545 - val_accuracy: 0.7992\n",
      "Epoch 80/150\n",
      "514/514 [==============================] - 0s 287us/step - loss: 0.4455 - accuracy: 0.7802 - val_loss: 0.4585 - val_accuracy: 0.7992\n",
      "Epoch 81/150\n",
      "514/514 [==============================] - 0s 300us/step - loss: 0.4431 - accuracy: 0.7957 - val_loss: 0.4504 - val_accuracy: 0.7913\n",
      "Epoch 82/150\n",
      "514/514 [==============================] - 0s 312us/step - loss: 0.4530 - accuracy: 0.7821 - val_loss: 0.4567 - val_accuracy: 0.7795\n",
      "Epoch 83/150\n",
      "514/514 [==============================] - 0s 299us/step - loss: 0.4530 - accuracy: 0.7879 - val_loss: 0.4544 - val_accuracy: 0.8031\n",
      "Epoch 84/150\n",
      "514/514 [==============================] - 0s 300us/step - loss: 0.4370 - accuracy: 0.7860 - val_loss: 0.4704 - val_accuracy: 0.7913\n",
      "Epoch 85/150\n",
      "514/514 [==============================] - 0s 287us/step - loss: 0.4534 - accuracy: 0.7860 - val_loss: 0.4601 - val_accuracy: 0.8071\n",
      "Epoch 86/150\n",
      "514/514 [==============================] - 0s 302us/step - loss: 0.4426 - accuracy: 0.7957 - val_loss: 0.4644 - val_accuracy: 0.8110\n",
      "Epoch 87/150\n",
      "514/514 [==============================] - 0s 302us/step - loss: 0.4410 - accuracy: 0.7918 - val_loss: 0.4548 - val_accuracy: 0.7953\n",
      "Epoch 88/150\n",
      "514/514 [==============================] - 0s 296us/step - loss: 0.4419 - accuracy: 0.7957 - val_loss: 0.4576 - val_accuracy: 0.7992\n",
      "Epoch 89/150\n",
      "514/514 [==============================] - 0s 292us/step - loss: 0.4450 - accuracy: 0.7977 - val_loss: 0.4694 - val_accuracy: 0.7638\n",
      "Epoch 90/150\n",
      "514/514 [==============================] - 0s 289us/step - loss: 0.4546 - accuracy: 0.7899 - val_loss: 0.4710 - val_accuracy: 0.7953\n",
      "Epoch 91/150\n",
      "514/514 [==============================] - 0s 303us/step - loss: 0.4448 - accuracy: 0.7996 - val_loss: 0.4617 - val_accuracy: 0.8071\n",
      "Epoch 92/150\n",
      "514/514 [==============================] - 0s 300us/step - loss: 0.4406 - accuracy: 0.7860 - val_loss: 0.4517 - val_accuracy: 0.7913\n",
      "Epoch 93/150\n",
      "514/514 [==============================] - 0s 297us/step - loss: 0.4406 - accuracy: 0.8035 - val_loss: 0.4838 - val_accuracy: 0.8110\n",
      "Epoch 94/150\n",
      "514/514 [==============================] - 0s 287us/step - loss: 0.4532 - accuracy: 0.7685 - val_loss: 0.4560 - val_accuracy: 0.7992\n",
      "Epoch 95/150\n",
      "514/514 [==============================] - 0s 297us/step - loss: 0.4358 - accuracy: 0.7957 - val_loss: 0.4762 - val_accuracy: 0.7992\n",
      "Epoch 96/150\n",
      "514/514 [==============================] - 0s 296us/step - loss: 0.4413 - accuracy: 0.8016 - val_loss: 0.4564 - val_accuracy: 0.8031\n",
      "Epoch 97/150\n",
      "514/514 [==============================] - 0s 307us/step - loss: 0.4406 - accuracy: 0.7763 - val_loss: 0.4646 - val_accuracy: 0.7874\n",
      "Epoch 98/150\n",
      "514/514 [==============================] - 0s 317us/step - loss: 0.4448 - accuracy: 0.7899 - val_loss: 0.4674 - val_accuracy: 0.7677\n",
      "Epoch 99/150\n",
      "514/514 [==============================] - 0s 303us/step - loss: 0.4458 - accuracy: 0.7626 - val_loss: 0.4697 - val_accuracy: 0.8110\n",
      "Epoch 100/150\n",
      "514/514 [==============================] - 0s 288us/step - loss: 0.4471 - accuracy: 0.7782 - val_loss: 0.4512 - val_accuracy: 0.7992\n",
      "Epoch 101/150\n",
      "514/514 [==============================] - 0s 287us/step - loss: 0.4447 - accuracy: 0.7821 - val_loss: 0.4530 - val_accuracy: 0.8150\n",
      "Epoch 102/150\n",
      "514/514 [==============================] - 0s 291us/step - loss: 0.4458 - accuracy: 0.7899 - val_loss: 0.4637 - val_accuracy: 0.7953\n",
      "Epoch 103/150\n",
      "514/514 [==============================] - 0s 285us/step - loss: 0.4345 - accuracy: 0.7860 - val_loss: 0.4643 - val_accuracy: 0.8031\n",
      "Epoch 104/150\n",
      "514/514 [==============================] - 0s 284us/step - loss: 0.4574 - accuracy: 0.7918 - val_loss: 0.4961 - val_accuracy: 0.7953\n",
      "Epoch 105/150\n",
      "514/514 [==============================] - 0s 288us/step - loss: 0.4442 - accuracy: 0.7802 - val_loss: 0.4894 - val_accuracy: 0.7992\n",
      "Epoch 106/150\n",
      "514/514 [==============================] - 0s 286us/step - loss: 0.4420 - accuracy: 0.8035 - val_loss: 0.4550 - val_accuracy: 0.7874\n",
      "Epoch 107/150\n",
      "514/514 [==============================] - 0s 284us/step - loss: 0.4328 - accuracy: 0.7918 - val_loss: 0.4869 - val_accuracy: 0.7913\n",
      "Epoch 108/150\n",
      "514/514 [==============================] - 0s 286us/step - loss: 0.4547 - accuracy: 0.7918 - val_loss: 0.4661 - val_accuracy: 0.7795\n",
      "Epoch 109/150\n",
      "514/514 [==============================] - 0s 286us/step - loss: 0.4469 - accuracy: 0.7821 - val_loss: 0.4571 - val_accuracy: 0.7874\n",
      "Epoch 110/150\n",
      "514/514 [==============================] - 0s 282us/step - loss: 0.4470 - accuracy: 0.7879 - val_loss: 0.4596 - val_accuracy: 0.7795\n",
      "Epoch 111/150\n",
      "514/514 [==============================] - 0s 291us/step - loss: 0.4511 - accuracy: 0.7879 - val_loss: 0.4620 - val_accuracy: 0.7835\n",
      "Epoch 112/150\n",
      "514/514 [==============================] - 0s 289us/step - loss: 0.4362 - accuracy: 0.7840 - val_loss: 0.4834 - val_accuracy: 0.8031\n",
      "Epoch 113/150\n"
     ]
    },
    {
     "name": "stdout",
     "output_type": "stream",
     "text": [
      "514/514 [==============================] - 0s 289us/step - loss: 0.4363 - accuracy: 0.8132 - val_loss: 0.4658 - val_accuracy: 0.7992\n",
      "Epoch 114/150\n",
      "514/514 [==============================] - 0s 285us/step - loss: 0.4357 - accuracy: 0.7918 - val_loss: 0.4666 - val_accuracy: 0.8031\n",
      "Epoch 115/150\n",
      "514/514 [==============================] - 0s 282us/step - loss: 0.4372 - accuracy: 0.7918 - val_loss: 0.4788 - val_accuracy: 0.7756\n",
      "Epoch 116/150\n",
      "514/514 [==============================] - 0s 282us/step - loss: 0.4498 - accuracy: 0.7840 - val_loss: 0.4676 - val_accuracy: 0.7913\n",
      "Epoch 117/150\n",
      "514/514 [==============================] - 0s 320us/step - loss: 0.4435 - accuracy: 0.7977 - val_loss: 0.4592 - val_accuracy: 0.7953\n",
      "Epoch 118/150\n",
      "514/514 [==============================] - 0s 343us/step - loss: 0.4446 - accuracy: 0.7860 - val_loss: 0.4688 - val_accuracy: 0.8071\n",
      "Epoch 119/150\n",
      "514/514 [==============================] - 0s 322us/step - loss: 0.4479 - accuracy: 0.7977 - val_loss: 0.4664 - val_accuracy: 0.7795\n",
      "Epoch 120/150\n",
      "514/514 [==============================] - 0s 317us/step - loss: 0.4457 - accuracy: 0.7879 - val_loss: 0.4778 - val_accuracy: 0.7953\n",
      "Epoch 121/150\n",
      "514/514 [==============================] - 0s 314us/step - loss: 0.4383 - accuracy: 0.8016 - val_loss: 0.4645 - val_accuracy: 0.8189\n",
      "Epoch 122/150\n",
      "514/514 [==============================] - 0s 308us/step - loss: 0.4437 - accuracy: 0.7918 - val_loss: 0.4600 - val_accuracy: 0.7795\n",
      "Epoch 123/150\n",
      "514/514 [==============================] - 0s 291us/step - loss: 0.4516 - accuracy: 0.7840 - val_loss: 0.4655 - val_accuracy: 0.8071\n",
      "Epoch 124/150\n",
      "514/514 [==============================] - 0s 290us/step - loss: 0.4421 - accuracy: 0.7899 - val_loss: 0.4583 - val_accuracy: 0.7756\n",
      "Epoch 125/150\n",
      "514/514 [==============================] - 0s 302us/step - loss: 0.4379 - accuracy: 0.7860 - val_loss: 0.4697 - val_accuracy: 0.7913\n",
      "Epoch 126/150\n",
      "514/514 [==============================] - 0s 286us/step - loss: 0.4281 - accuracy: 0.8016 - val_loss: 0.4689 - val_accuracy: 0.8150\n",
      "Epoch 127/150\n",
      "514/514 [==============================] - 0s 300us/step - loss: 0.4352 - accuracy: 0.7938 - val_loss: 0.4707 - val_accuracy: 0.8031\n",
      "Epoch 128/150\n",
      "514/514 [==============================] - 0s 306us/step - loss: 0.4386 - accuracy: 0.7860 - val_loss: 0.4581 - val_accuracy: 0.8150\n",
      "Epoch 129/150\n",
      "514/514 [==============================] - 0s 289us/step - loss: 0.4305 - accuracy: 0.8054 - val_loss: 0.4592 - val_accuracy: 0.7992\n",
      "Epoch 130/150\n",
      "514/514 [==============================] - 0s 317us/step - loss: 0.4296 - accuracy: 0.8074 - val_loss: 0.4628 - val_accuracy: 0.7992\n",
      "Epoch 131/150\n",
      "514/514 [==============================] - 0s 297us/step - loss: 0.4359 - accuracy: 0.7840 - val_loss: 0.4999 - val_accuracy: 0.7953\n",
      "Epoch 132/150\n",
      "514/514 [==============================] - 0s 293us/step - loss: 0.4318 - accuracy: 0.7957 - val_loss: 0.4568 - val_accuracy: 0.7795\n",
      "Epoch 133/150\n",
      "514/514 [==============================] - 0s 296us/step - loss: 0.4519 - accuracy: 0.7782 - val_loss: 0.4583 - val_accuracy: 0.8031\n",
      "Epoch 134/150\n",
      "514/514 [==============================] - 0s 318us/step - loss: 0.4345 - accuracy: 0.7977 - val_loss: 0.4600 - val_accuracy: 0.8150\n",
      "Epoch 135/150\n",
      "514/514 [==============================] - 0s 292us/step - loss: 0.4342 - accuracy: 0.7918 - val_loss: 0.4856 - val_accuracy: 0.7874\n",
      "Epoch 136/150\n",
      "514/514 [==============================] - 0s 289us/step - loss: 0.4426 - accuracy: 0.7802 - val_loss: 0.4823 - val_accuracy: 0.7756\n",
      "Epoch 137/150\n",
      "514/514 [==============================] - 0s 299us/step - loss: 0.4334 - accuracy: 0.7957 - val_loss: 0.4554 - val_accuracy: 0.7953\n",
      "Epoch 138/150\n",
      "514/514 [==============================] - 0s 297us/step - loss: 0.4339 - accuracy: 0.7899 - val_loss: 0.4660 - val_accuracy: 0.8031\n",
      "Epoch 139/150\n",
      "514/514 [==============================] - 0s 297us/step - loss: 0.4409 - accuracy: 0.7860 - val_loss: 0.4546 - val_accuracy: 0.8110\n",
      "Epoch 140/150\n",
      "514/514 [==============================] - 0s 296us/step - loss: 0.4355 - accuracy: 0.7918 - val_loss: 0.4605 - val_accuracy: 0.7913\n",
      "Epoch 141/150\n",
      "514/514 [==============================] - 0s 299us/step - loss: 0.4343 - accuracy: 0.7879 - val_loss: 0.4785 - val_accuracy: 0.8110\n",
      "Epoch 142/150\n",
      "514/514 [==============================] - 0s 291us/step - loss: 0.4382 - accuracy: 0.7899 - val_loss: 0.4803 - val_accuracy: 0.7992\n",
      "Epoch 143/150\n",
      "514/514 [==============================] - 0s 294us/step - loss: 0.4420 - accuracy: 0.7918 - val_loss: 0.4704 - val_accuracy: 0.8031\n",
      "Epoch 144/150\n",
      "514/514 [==============================] - 0s 293us/step - loss: 0.4450 - accuracy: 0.8093 - val_loss: 0.4631 - val_accuracy: 0.8150\n",
      "Epoch 145/150\n",
      "514/514 [==============================] - 0s 303us/step - loss: 0.4415 - accuracy: 0.7899 - val_loss: 0.4590 - val_accuracy: 0.7953\n",
      "Epoch 146/150\n",
      "514/514 [==============================] - 0s 287us/step - loss: 0.4316 - accuracy: 0.7821 - val_loss: 0.4855 - val_accuracy: 0.8110\n",
      "Epoch 147/150\n",
      "514/514 [==============================] - 0s 299us/step - loss: 0.4347 - accuracy: 0.7938 - val_loss: 0.4625 - val_accuracy: 0.8071\n",
      "Epoch 148/150\n",
      "514/514 [==============================] - 0s 299us/step - loss: 0.4462 - accuracy: 0.7879 - val_loss: 0.4547 - val_accuracy: 0.7913\n",
      "Epoch 149/150\n",
      "514/514 [==============================] - 0s 295us/step - loss: 0.4280 - accuracy: 0.7957 - val_loss: 0.4660 - val_accuracy: 0.8150\n",
      "Epoch 150/150\n",
      "514/514 [==============================] - 0s 304us/step - loss: 0.4594 - accuracy: 0.7665 - val_loss: 0.4578 - val_accuracy: 0.7953\n"
     ]
    },
    {
     "data": {
      "text/plain": [
       "<keras.callbacks.callbacks.History at 0x7fc2a3e663c8>"
      ]
     },
     "execution_count": 37,
     "metadata": {},
     "output_type": "execute_result"
    }
   ],
   "source": [
    "# Fit the model\n",
    "model.fit(X, y, validation_split = 0.33, epochs = 150, batch_size = 10)"
   ]
  },
  {
   "cell_type": "markdown",
   "metadata": {},
   "source": [
    "#### Data Splitting using Manual Verification Dataset"
   ]
  },
  {
   "cell_type": "code",
   "execution_count": 41,
   "metadata": {},
   "outputs": [
    {
     "name": "stdout",
     "output_type": "stream",
     "text": [
      "Train on 514 samples, validate on 254 samples\n",
      "Epoch 1/150\n",
      "514/514 [==============================] - 0s 377us/step - loss: 0.4399 - accuracy: 0.7918 - val_loss: 0.4492 - val_accuracy: 0.7874\n",
      "Epoch 2/150\n",
      "514/514 [==============================] - 0s 323us/step - loss: 0.4337 - accuracy: 0.7802 - val_loss: 0.4528 - val_accuracy: 0.7953\n",
      "Epoch 3/150\n",
      "514/514 [==============================] - 0s 324us/step - loss: 0.4353 - accuracy: 0.7821 - val_loss: 0.4763 - val_accuracy: 0.7913\n",
      "Epoch 4/150\n",
      "514/514 [==============================] - 0s 316us/step - loss: 0.4264 - accuracy: 0.7918 - val_loss: 0.4566 - val_accuracy: 0.7992\n",
      "Epoch 5/150\n",
      "514/514 [==============================] - 0s 309us/step - loss: 0.4281 - accuracy: 0.7938 - val_loss: 0.4642 - val_accuracy: 0.7874\n",
      "Epoch 6/150\n",
      "514/514 [==============================] - 0s 304us/step - loss: 0.4265 - accuracy: 0.7957 - val_loss: 0.4507 - val_accuracy: 0.7835\n",
      "Epoch 7/150\n",
      "514/514 [==============================] - 0s 297us/step - loss: 0.4186 - accuracy: 0.7918 - val_loss: 0.4507 - val_accuracy: 0.7913\n",
      "Epoch 8/150\n",
      "514/514 [==============================] - 0s 296us/step - loss: 0.4335 - accuracy: 0.7802 - val_loss: 0.4622 - val_accuracy: 0.7717\n",
      "Epoch 9/150\n",
      "514/514 [==============================] - 0s 306us/step - loss: 0.4234 - accuracy: 0.7918 - val_loss: 0.4553 - val_accuracy: 0.7835\n",
      "Epoch 10/150\n",
      "514/514 [==============================] - 0s 302us/step - loss: 0.4315 - accuracy: 0.7685 - val_loss: 0.4579 - val_accuracy: 0.7835\n",
      "Epoch 11/150\n",
      "514/514 [==============================] - 0s 297us/step - loss: 0.4395 - accuracy: 0.7840 - val_loss: 0.4662 - val_accuracy: 0.7835\n",
      "Epoch 12/150\n",
      "514/514 [==============================] - 0s 294us/step - loss: 0.4344 - accuracy: 0.7782 - val_loss: 0.4754 - val_accuracy: 0.7638\n",
      "Epoch 13/150\n",
      "514/514 [==============================] - 0s 332us/step - loss: 0.4155 - accuracy: 0.7938 - val_loss: 0.4654 - val_accuracy: 0.8031\n",
      "Epoch 14/150\n",
      "514/514 [==============================] - 0s 350us/step - loss: 0.4237 - accuracy: 0.7763 - val_loss: 0.4590 - val_accuracy: 0.8071\n",
      "Epoch 15/150\n",
      "514/514 [==============================] - 0s 326us/step - loss: 0.4212 - accuracy: 0.8016 - val_loss: 0.4658 - val_accuracy: 0.7874\n",
      "Epoch 16/150\n",
      "514/514 [==============================] - 0s 330us/step - loss: 0.4202 - accuracy: 0.8152 - val_loss: 0.4673 - val_accuracy: 0.7953\n",
      "Epoch 17/150\n",
      "514/514 [==============================] - 0s 333us/step - loss: 0.4173 - accuracy: 0.7860 - val_loss: 0.4656 - val_accuracy: 0.7795\n",
      "Epoch 18/150\n",
      "514/514 [==============================] - 0s 326us/step - loss: 0.4174 - accuracy: 0.7918 - val_loss: 0.4743 - val_accuracy: 0.7874\n",
      "Epoch 19/150\n",
      "514/514 [==============================] - 0s 339us/step - loss: 0.4196 - accuracy: 0.7957 - val_loss: 0.4744 - val_accuracy: 0.7835\n",
      "Epoch 20/150\n",
      "514/514 [==============================] - 0s 332us/step - loss: 0.4300 - accuracy: 0.7860 - val_loss: 0.4657 - val_accuracy: 0.7874\n",
      "Epoch 21/150\n",
      "514/514 [==============================] - 0s 332us/step - loss: 0.4256 - accuracy: 0.7879 - val_loss: 0.4692 - val_accuracy: 0.8071\n",
      "Epoch 22/150\n",
      "514/514 [==============================] - 0s 327us/step - loss: 0.4161 - accuracy: 0.7996 - val_loss: 0.4639 - val_accuracy: 0.7835\n",
      "Epoch 23/150\n",
      "514/514 [==============================] - 0s 320us/step - loss: 0.4388 - accuracy: 0.7996 - val_loss: 0.4907 - val_accuracy: 0.7795\n",
      "Epoch 24/150\n",
      "514/514 [==============================] - 0s 326us/step - loss: 0.4255 - accuracy: 0.7899 - val_loss: 0.4770 - val_accuracy: 0.7795\n",
      "Epoch 25/150\n",
      "514/514 [==============================] - 0s 317us/step - loss: 0.4177 - accuracy: 0.7957 - val_loss: 0.4694 - val_accuracy: 0.7874\n",
      "Epoch 26/150\n",
      "514/514 [==============================] - 0s 317us/step - loss: 0.4208 - accuracy: 0.7977 - val_loss: 0.4719 - val_accuracy: 0.8071\n",
      "Epoch 27/150\n",
      "514/514 [==============================] - 0s 335us/step - loss: 0.4169 - accuracy: 0.7957 - val_loss: 0.4713 - val_accuracy: 0.7953\n",
      "Epoch 28/150\n",
      "514/514 [==============================] - 0s 337us/step - loss: 0.4127 - accuracy: 0.7996 - val_loss: 0.4723 - val_accuracy: 0.7874\n",
      "Epoch 29/150\n",
      "514/514 [==============================] - 0s 341us/step - loss: 0.4119 - accuracy: 0.7840 - val_loss: 0.4713 - val_accuracy: 0.7953\n",
      "Epoch 30/150\n",
      "514/514 [==============================] - 0s 336us/step - loss: 0.4110 - accuracy: 0.7938 - val_loss: 0.4737 - val_accuracy: 0.7953\n",
      "Epoch 31/150\n",
      "514/514 [==============================] - 0s 357us/step - loss: 0.4314 - accuracy: 0.7899 - val_loss: 0.4813 - val_accuracy: 0.7795\n",
      "Epoch 32/150\n",
      "514/514 [==============================] - 0s 333us/step - loss: 0.4185 - accuracy: 0.8035 - val_loss: 0.4744 - val_accuracy: 0.7913\n",
      "Epoch 33/150\n",
      "514/514 [==============================] - 0s 310us/step - loss: 0.4136 - accuracy: 0.7938 - val_loss: 0.4800 - val_accuracy: 0.7992\n",
      "Epoch 34/150\n",
      "514/514 [==============================] - 0s 318us/step - loss: 0.4028 - accuracy: 0.7977 - val_loss: 0.4836 - val_accuracy: 0.7835\n",
      "Epoch 35/150\n",
      "514/514 [==============================] - 0s 314us/step - loss: 0.4149 - accuracy: 0.7957 - val_loss: 0.5026 - val_accuracy: 0.7677\n",
      "Epoch 36/150\n",
      "514/514 [==============================] - 0s 284us/step - loss: 0.4207 - accuracy: 0.8054 - val_loss: 0.4846 - val_accuracy: 0.7835\n",
      "Epoch 37/150\n",
      "514/514 [==============================] - 0s 281us/step - loss: 0.4116 - accuracy: 0.7918 - val_loss: 0.4792 - val_accuracy: 0.7756\n",
      "Epoch 38/150\n",
      "514/514 [==============================] - 0s 280us/step - loss: 0.4140 - accuracy: 0.7957 - val_loss: 0.4767 - val_accuracy: 0.7835\n",
      "Epoch 39/150\n",
      "514/514 [==============================] - 0s 277us/step - loss: 0.4148 - accuracy: 0.7918 - val_loss: 0.4774 - val_accuracy: 0.7795\n",
      "Epoch 40/150\n",
      "514/514 [==============================] - 0s 278us/step - loss: 0.4166 - accuracy: 0.7918 - val_loss: 0.4762 - val_accuracy: 0.7835\n",
      "Epoch 41/150\n",
      "514/514 [==============================] - 0s 281us/step - loss: 0.4177 - accuracy: 0.7938 - val_loss: 0.4713 - val_accuracy: 0.7913\n",
      "Epoch 42/150\n",
      "514/514 [==============================] - 0s 299us/step - loss: 0.4159 - accuracy: 0.7918 - val_loss: 0.4861 - val_accuracy: 0.7638\n",
      "Epoch 43/150\n",
      "514/514 [==============================] - 0s 279us/step - loss: 0.4153 - accuracy: 0.8113 - val_loss: 0.4773 - val_accuracy: 0.7717\n",
      "Epoch 44/150\n",
      "514/514 [==============================] - 0s 293us/step - loss: 0.4233 - accuracy: 0.7879 - val_loss: 0.5048 - val_accuracy: 0.7756\n",
      "Epoch 45/150\n",
      "514/514 [==============================] - 0s 317us/step - loss: 0.4042 - accuracy: 0.8346 - val_loss: 0.4862 - val_accuracy: 0.7874\n",
      "Epoch 46/150\n",
      "514/514 [==============================] - 0s 303us/step - loss: 0.4093 - accuracy: 0.7977 - val_loss: 0.4883 - val_accuracy: 0.7717\n",
      "Epoch 47/150\n",
      "514/514 [==============================] - 0s 301us/step - loss: 0.4039 - accuracy: 0.8035 - val_loss: 0.4834 - val_accuracy: 0.7953\n",
      "Epoch 48/150\n",
      "514/514 [==============================] - 0s 313us/step - loss: 0.4128 - accuracy: 0.8113 - val_loss: 0.5055 - val_accuracy: 0.7717\n",
      "Epoch 49/150\n",
      "514/514 [==============================] - 0s 306us/step - loss: 0.4077 - accuracy: 0.8035 - val_loss: 0.4923 - val_accuracy: 0.7677\n",
      "Epoch 50/150\n",
      "514/514 [==============================] - 0s 300us/step - loss: 0.4097 - accuracy: 0.8035 - val_loss: 0.4859 - val_accuracy: 0.7598\n",
      "Epoch 51/150\n",
      "514/514 [==============================] - 0s 299us/step - loss: 0.4067 - accuracy: 0.8016 - val_loss: 0.4843 - val_accuracy: 0.7559\n",
      "Epoch 52/150\n",
      "514/514 [==============================] - 0s 300us/step - loss: 0.3999 - accuracy: 0.8093 - val_loss: 0.4924 - val_accuracy: 0.7598\n",
      "Epoch 53/150\n",
      "514/514 [==============================] - 0s 325us/step - loss: 0.4055 - accuracy: 0.8093 - val_loss: 0.4850 - val_accuracy: 0.7638\n",
      "Epoch 54/150\n",
      "514/514 [==============================] - 0s 311us/step - loss: 0.4061 - accuracy: 0.8152 - val_loss: 0.4966 - val_accuracy: 0.7598\n",
      "Epoch 55/150\n",
      "514/514 [==============================] - 0s 318us/step - loss: 0.4090 - accuracy: 0.8074 - val_loss: 0.5058 - val_accuracy: 0.7559\n",
      "Epoch 56/150\n",
      "514/514 [==============================] - 0s 311us/step - loss: 0.4059 - accuracy: 0.8035 - val_loss: 0.4827 - val_accuracy: 0.7874\n"
     ]
    },
    {
     "name": "stdout",
     "output_type": "stream",
     "text": [
      "Epoch 57/150\n",
      "514/514 [==============================] - 0s 335us/step - loss: 0.4016 - accuracy: 0.7977 - val_loss: 0.4951 - val_accuracy: 0.7756\n",
      "Epoch 58/150\n",
      "514/514 [==============================] - 0s 314us/step - loss: 0.4034 - accuracy: 0.8132 - val_loss: 0.4858 - val_accuracy: 0.7717\n",
      "Epoch 59/150\n",
      "514/514 [==============================] - 0s 299us/step - loss: 0.4010 - accuracy: 0.8093 - val_loss: 0.5049 - val_accuracy: 0.7598\n",
      "Epoch 60/150\n",
      "514/514 [==============================] - 0s 305us/step - loss: 0.4010 - accuracy: 0.8035 - val_loss: 0.4898 - val_accuracy: 0.7756\n",
      "Epoch 61/150\n",
      "514/514 [==============================] - 0s 302us/step - loss: 0.4020 - accuracy: 0.8016 - val_loss: 0.4849 - val_accuracy: 0.7874\n",
      "Epoch 62/150\n",
      "514/514 [==============================] - 0s 309us/step - loss: 0.3958 - accuracy: 0.8113 - val_loss: 0.4921 - val_accuracy: 0.7638\n",
      "Epoch 63/150\n",
      "514/514 [==============================] - 0s 314us/step - loss: 0.3943 - accuracy: 0.8171 - val_loss: 0.4920 - val_accuracy: 0.7638\n",
      "Epoch 64/150\n",
      "514/514 [==============================] - 0s 310us/step - loss: 0.4044 - accuracy: 0.8288 - val_loss: 0.4990 - val_accuracy: 0.7795\n",
      "Epoch 65/150\n",
      "514/514 [==============================] - 0s 307us/step - loss: 0.3952 - accuracy: 0.8171 - val_loss: 0.5039 - val_accuracy: 0.7677\n",
      "Epoch 66/150\n",
      "514/514 [==============================] - 0s 312us/step - loss: 0.4108 - accuracy: 0.8074 - val_loss: 0.5271 - val_accuracy: 0.7598\n",
      "Epoch 67/150\n",
      "514/514 [==============================] - 0s 306us/step - loss: 0.4137 - accuracy: 0.8074 - val_loss: 0.4950 - val_accuracy: 0.7638\n",
      "Epoch 68/150\n",
      "514/514 [==============================] - 0s 312us/step - loss: 0.4073 - accuracy: 0.8054 - val_loss: 0.4889 - val_accuracy: 0.7677\n",
      "Epoch 69/150\n",
      "514/514 [==============================] - 0s 297us/step - loss: 0.4092 - accuracy: 0.8093 - val_loss: 0.4914 - val_accuracy: 0.7677\n",
      "Epoch 70/150\n",
      "514/514 [==============================] - 0s 302us/step - loss: 0.4003 - accuracy: 0.7977 - val_loss: 0.4951 - val_accuracy: 0.7717\n",
      "Epoch 71/150\n",
      "514/514 [==============================] - 0s 304us/step - loss: 0.4084 - accuracy: 0.8132 - val_loss: 0.4975 - val_accuracy: 0.7520\n",
      "Epoch 72/150\n",
      "514/514 [==============================] - 0s 293us/step - loss: 0.3943 - accuracy: 0.8132 - val_loss: 0.4866 - val_accuracy: 0.7756\n",
      "Epoch 73/150\n",
      "514/514 [==============================] - 0s 296us/step - loss: 0.4080 - accuracy: 0.7957 - val_loss: 0.4906 - val_accuracy: 0.7638\n",
      "Epoch 74/150\n",
      "514/514 [==============================] - 0s 298us/step - loss: 0.3945 - accuracy: 0.8074 - val_loss: 0.4978 - val_accuracy: 0.7717\n",
      "Epoch 75/150\n",
      "514/514 [==============================] - 0s 293us/step - loss: 0.3968 - accuracy: 0.8113 - val_loss: 0.4858 - val_accuracy: 0.7874\n",
      "Epoch 76/150\n",
      "514/514 [==============================] - 0s 302us/step - loss: 0.3894 - accuracy: 0.8288 - val_loss: 0.5307 - val_accuracy: 0.7559\n",
      "Epoch 77/150\n",
      "514/514 [==============================] - 0s 296us/step - loss: 0.3939 - accuracy: 0.8171 - val_loss: 0.4882 - val_accuracy: 0.7756\n",
      "Epoch 78/150\n",
      "514/514 [==============================] - 0s 308us/step - loss: 0.3897 - accuracy: 0.8307 - val_loss: 0.5031 - val_accuracy: 0.7520\n",
      "Epoch 79/150\n",
      "514/514 [==============================] - 0s 300us/step - loss: 0.4047 - accuracy: 0.8152 - val_loss: 0.5143 - val_accuracy: 0.7559\n",
      "Epoch 80/150\n",
      "514/514 [==============================] - 0s 304us/step - loss: 0.4063 - accuracy: 0.8152 - val_loss: 0.4993 - val_accuracy: 0.7756\n",
      "Epoch 81/150\n",
      "514/514 [==============================] - 0s 298us/step - loss: 0.3942 - accuracy: 0.8249 - val_loss: 0.5123 - val_accuracy: 0.7638\n",
      "Epoch 82/150\n",
      "514/514 [==============================] - 0s 292us/step - loss: 0.3935 - accuracy: 0.8054 - val_loss: 0.4902 - val_accuracy: 0.7677\n",
      "Epoch 83/150\n",
      "514/514 [==============================] - 0s 294us/step - loss: 0.3939 - accuracy: 0.8113 - val_loss: 0.4983 - val_accuracy: 0.7520\n",
      "Epoch 84/150\n",
      "514/514 [==============================] - 0s 298us/step - loss: 0.3934 - accuracy: 0.8132 - val_loss: 0.4986 - val_accuracy: 0.7677\n",
      "Epoch 85/150\n",
      "514/514 [==============================] - 0s 298us/step - loss: 0.3942 - accuracy: 0.8074 - val_loss: 0.5016 - val_accuracy: 0.7717\n",
      "Epoch 86/150\n",
      "514/514 [==============================] - 0s 290us/step - loss: 0.3992 - accuracy: 0.8191 - val_loss: 0.5283 - val_accuracy: 0.7598\n",
      "Epoch 87/150\n",
      "514/514 [==============================] - 0s 297us/step - loss: 0.4023 - accuracy: 0.8152 - val_loss: 0.5198 - val_accuracy: 0.7520\n",
      "Epoch 88/150\n",
      "514/514 [==============================] - 0s 294us/step - loss: 0.3985 - accuracy: 0.8191 - val_loss: 0.4938 - val_accuracy: 0.7638\n",
      "Epoch 89/150\n",
      "514/514 [==============================] - 0s 290us/step - loss: 0.3904 - accuracy: 0.8113 - val_loss: 0.5070 - val_accuracy: 0.7480\n",
      "Epoch 90/150\n",
      "514/514 [==============================] - 0s 297us/step - loss: 0.4023 - accuracy: 0.8268 - val_loss: 0.5030 - val_accuracy: 0.7559\n",
      "Epoch 91/150\n",
      "514/514 [==============================] - 0s 288us/step - loss: 0.3989 - accuracy: 0.8074 - val_loss: 0.4965 - val_accuracy: 0.7638\n",
      "Epoch 92/150\n",
      "514/514 [==============================] - 0s 303us/step - loss: 0.4013 - accuracy: 0.8171 - val_loss: 0.5026 - val_accuracy: 0.7520\n",
      "Epoch 93/150\n",
      "514/514 [==============================] - 0s 324us/step - loss: 0.4087 - accuracy: 0.8171 - val_loss: 0.4913 - val_accuracy: 0.7756\n",
      "Epoch 94/150\n",
      "514/514 [==============================] - 0s 314us/step - loss: 0.3892 - accuracy: 0.8132 - val_loss: 0.5751 - val_accuracy: 0.7362\n",
      "Epoch 95/150\n",
      "514/514 [==============================] - 0s 311us/step - loss: 0.4201 - accuracy: 0.7977 - val_loss: 0.5268 - val_accuracy: 0.7480\n",
      "Epoch 96/150\n",
      "514/514 [==============================] - 0s 293us/step - loss: 0.4064 - accuracy: 0.8074 - val_loss: 0.5210 - val_accuracy: 0.7638\n",
      "Epoch 97/150\n",
      "514/514 [==============================] - 0s 285us/step - loss: 0.3981 - accuracy: 0.8191 - val_loss: 0.5079 - val_accuracy: 0.7756\n",
      "Epoch 98/150\n",
      "514/514 [==============================] - 0s 286us/step - loss: 0.4052 - accuracy: 0.8074 - val_loss: 0.5317 - val_accuracy: 0.7362\n",
      "Epoch 99/150\n",
      "514/514 [==============================] - 0s 290us/step - loss: 0.3986 - accuracy: 0.8152 - val_loss: 0.5099 - val_accuracy: 0.7677\n",
      "Epoch 100/150\n",
      "514/514 [==============================] - 0s 285us/step - loss: 0.3867 - accuracy: 0.8307 - val_loss: 0.5030 - val_accuracy: 0.7638\n",
      "Epoch 101/150\n",
      "514/514 [==============================] - 0s 290us/step - loss: 0.3877 - accuracy: 0.8191 - val_loss: 0.4968 - val_accuracy: 0.7835\n",
      "Epoch 102/150\n",
      "514/514 [==============================] - 0s 286us/step - loss: 0.3932 - accuracy: 0.8093 - val_loss: 0.4968 - val_accuracy: 0.7717\n",
      "Epoch 103/150\n",
      "514/514 [==============================] - 0s 294us/step - loss: 0.4371 - accuracy: 0.8016 - val_loss: 0.5328 - val_accuracy: 0.7402\n",
      "Epoch 104/150\n",
      "514/514 [==============================] - 0s 285us/step - loss: 0.4207 - accuracy: 0.8035 - val_loss: 0.5249 - val_accuracy: 0.7717\n",
      "Epoch 105/150\n",
      "514/514 [==============================] - 0s 286us/step - loss: 0.4061 - accuracy: 0.8093 - val_loss: 0.5175 - val_accuracy: 0.7520\n",
      "Epoch 106/150\n",
      "514/514 [==============================] - 0s 290us/step - loss: 0.3962 - accuracy: 0.8171 - val_loss: 0.5130 - val_accuracy: 0.7795\n",
      "Epoch 107/150\n",
      "514/514 [==============================] - 0s 287us/step - loss: 0.3897 - accuracy: 0.8171 - val_loss: 0.5058 - val_accuracy: 0.7756\n",
      "Epoch 108/150\n",
      "514/514 [==============================] - 0s 293us/step - loss: 0.3901 - accuracy: 0.8210 - val_loss: 0.4999 - val_accuracy: 0.7559\n",
      "Epoch 109/150\n",
      "514/514 [==============================] - 0s 286us/step - loss: 0.3865 - accuracy: 0.8268 - val_loss: 0.5221 - val_accuracy: 0.7677\n",
      "Epoch 110/150\n",
      "514/514 [==============================] - 0s 292us/step - loss: 0.3938 - accuracy: 0.8191 - val_loss: 0.5089 - val_accuracy: 0.7520\n",
      "Epoch 111/150\n",
      "514/514 [==============================] - 0s 285us/step - loss: 0.3866 - accuracy: 0.8210 - val_loss: 0.5029 - val_accuracy: 0.7795\n",
      "Epoch 112/150\n",
      "514/514 [==============================] - 0s 287us/step - loss: 0.4041 - accuracy: 0.8132 - val_loss: 0.5006 - val_accuracy: 0.7559\n",
      "Epoch 113/150\n"
     ]
    },
    {
     "name": "stdout",
     "output_type": "stream",
     "text": [
      "514/514 [==============================] - 0s 289us/step - loss: 0.3857 - accuracy: 0.8054 - val_loss: 0.5046 - val_accuracy: 0.7717\n",
      "Epoch 114/150\n",
      "514/514 [==============================] - 0s 284us/step - loss: 0.3863 - accuracy: 0.8113 - val_loss: 0.5212 - val_accuracy: 0.7717\n",
      "Epoch 115/150\n",
      "514/514 [==============================] - 0s 281us/step - loss: 0.3927 - accuracy: 0.8268 - val_loss: 0.5162 - val_accuracy: 0.7559\n",
      "Epoch 116/150\n",
      "514/514 [==============================] - 0s 280us/step - loss: 0.3918 - accuracy: 0.8132 - val_loss: 0.4970 - val_accuracy: 0.7677\n",
      "Epoch 117/150\n",
      "514/514 [==============================] - 0s 277us/step - loss: 0.3895 - accuracy: 0.8152 - val_loss: 0.4986 - val_accuracy: 0.7835\n",
      "Epoch 118/150\n",
      "514/514 [==============================] - 0s 282us/step - loss: 0.3787 - accuracy: 0.8366 - val_loss: 0.5195 - val_accuracy: 0.7559\n",
      "Epoch 119/150\n",
      "514/514 [==============================] - 0s 279us/step - loss: 0.3940 - accuracy: 0.8152 - val_loss: 0.5080 - val_accuracy: 0.7638\n",
      "Epoch 120/150\n",
      "514/514 [==============================] - 0s 281us/step - loss: 0.3917 - accuracy: 0.8152 - val_loss: 0.5124 - val_accuracy: 0.7598\n",
      "Epoch 121/150\n",
      "514/514 [==============================] - 0s 278us/step - loss: 0.3984 - accuracy: 0.8307 - val_loss: 0.4989 - val_accuracy: 0.7638\n",
      "Epoch 122/150\n",
      "514/514 [==============================] - 0s 282us/step - loss: 0.4001 - accuracy: 0.8171 - val_loss: 0.5037 - val_accuracy: 0.7480\n",
      "Epoch 123/150\n",
      "514/514 [==============================] - 0s 278us/step - loss: 0.3898 - accuracy: 0.8191 - val_loss: 0.5067 - val_accuracy: 0.7717\n",
      "Epoch 124/150\n",
      "514/514 [==============================] - 0s 279us/step - loss: 0.3849 - accuracy: 0.8210 - val_loss: 0.5013 - val_accuracy: 0.7598\n",
      "Epoch 125/150\n",
      "514/514 [==============================] - 0s 281us/step - loss: 0.3979 - accuracy: 0.8132 - val_loss: 0.4992 - val_accuracy: 0.7756\n",
      "Epoch 126/150\n",
      "514/514 [==============================] - 0s 282us/step - loss: 0.3894 - accuracy: 0.8074 - val_loss: 0.5154 - val_accuracy: 0.7638\n",
      "Epoch 127/150\n",
      "514/514 [==============================] - 0s 281us/step - loss: 0.3785 - accuracy: 0.8171 - val_loss: 0.5035 - val_accuracy: 0.7598\n",
      "Epoch 128/150\n",
      "514/514 [==============================] - 0s 281us/step - loss: 0.3812 - accuracy: 0.8210 - val_loss: 0.4948 - val_accuracy: 0.7756\n",
      "Epoch 129/150\n",
      "514/514 [==============================] - 0s 281us/step - loss: 0.3860 - accuracy: 0.8346 - val_loss: 0.5090 - val_accuracy: 0.7795\n",
      "Epoch 130/150\n",
      "514/514 [==============================] - 0s 280us/step - loss: 0.3896 - accuracy: 0.8249 - val_loss: 0.5012 - val_accuracy: 0.7795\n",
      "Epoch 131/150\n",
      "514/514 [==============================] - 0s 279us/step - loss: 0.3976 - accuracy: 0.8171 - val_loss: 0.5088 - val_accuracy: 0.7717\n",
      "Epoch 132/150\n",
      "514/514 [==============================] - 0s 275us/step - loss: 0.3863 - accuracy: 0.8171 - val_loss: 0.4998 - val_accuracy: 0.7795\n",
      "Epoch 133/150\n",
      "514/514 [==============================] - 0s 278us/step - loss: 0.3840 - accuracy: 0.8171 - val_loss: 0.5269 - val_accuracy: 0.7559\n",
      "Epoch 134/150\n",
      "514/514 [==============================] - 0s 287us/step - loss: 0.3968 - accuracy: 0.8171 - val_loss: 0.4951 - val_accuracy: 0.7835\n",
      "Epoch 135/150\n",
      "514/514 [==============================] - 0s 280us/step - loss: 0.3890 - accuracy: 0.8210 - val_loss: 0.5144 - val_accuracy: 0.7598\n",
      "Epoch 136/150\n",
      "514/514 [==============================] - 0s 281us/step - loss: 0.3877 - accuracy: 0.8249 - val_loss: 0.5140 - val_accuracy: 0.7480\n",
      "Epoch 137/150\n",
      "514/514 [==============================] - 0s 281us/step - loss: 0.3826 - accuracy: 0.8093 - val_loss: 0.5030 - val_accuracy: 0.7795\n",
      "Epoch 138/150\n",
      "514/514 [==============================] - 0s 289us/step - loss: 0.3869 - accuracy: 0.8191 - val_loss: 0.5037 - val_accuracy: 0.7677\n",
      "Epoch 139/150\n",
      "514/514 [==============================] - 0s 279us/step - loss: 0.3980 - accuracy: 0.8191 - val_loss: 0.5493 - val_accuracy: 0.7559\n",
      "Epoch 140/150\n",
      "514/514 [==============================] - 0s 280us/step - loss: 0.3903 - accuracy: 0.8035 - val_loss: 0.5129 - val_accuracy: 0.7638\n",
      "Epoch 141/150\n",
      "514/514 [==============================] - 0s 281us/step - loss: 0.3888 - accuracy: 0.8230 - val_loss: 0.5244 - val_accuracy: 0.7717\n",
      "Epoch 142/150\n",
      "514/514 [==============================] - 0s 283us/step - loss: 0.3840 - accuracy: 0.8132 - val_loss: 0.5195 - val_accuracy: 0.7638\n",
      "Epoch 143/150\n",
      "514/514 [==============================] - 0s 285us/step - loss: 0.3896 - accuracy: 0.8074 - val_loss: 0.5070 - val_accuracy: 0.7598\n",
      "Epoch 144/150\n",
      "514/514 [==============================] - 0s 301us/step - loss: 0.3940 - accuracy: 0.8191 - val_loss: 0.5026 - val_accuracy: 0.7598\n",
      "Epoch 145/150\n",
      "514/514 [==============================] - 0s 291us/step - loss: 0.3852 - accuracy: 0.8230 - val_loss: 0.5020 - val_accuracy: 0.7677\n",
      "Epoch 146/150\n",
      "514/514 [==============================] - 0s 282us/step - loss: 0.3943 - accuracy: 0.8054 - val_loss: 0.5198 - val_accuracy: 0.7874\n",
      "Epoch 147/150\n",
      "514/514 [==============================] - 0s 283us/step - loss: 0.4016 - accuracy: 0.8230 - val_loss: 0.5045 - val_accuracy: 0.7638\n",
      "Epoch 148/150\n",
      "514/514 [==============================] - 0s 280us/step - loss: 0.3947 - accuracy: 0.8035 - val_loss: 0.5304 - val_accuracy: 0.7520\n",
      "Epoch 149/150\n",
      "514/514 [==============================] - 0s 282us/step - loss: 0.3982 - accuracy: 0.7938 - val_loss: 0.5085 - val_accuracy: 0.7717\n",
      "Epoch 150/150\n",
      "514/514 [==============================] - 0s 281us/step - loss: 0.3910 - accuracy: 0.8152 - val_loss: 0.5224 - val_accuracy: 0.7638\n"
     ]
    },
    {
     "data": {
      "text/plain": [
       "<keras.callbacks.callbacks.History at 0x7fc28a3feb70>"
      ]
     },
     "execution_count": 41,
     "metadata": {},
     "output_type": "execute_result"
    }
   ],
   "source": [
    "#Splitting data into train and validation\n",
    "X_train, X_test, y_train, y_test = train_test_split(X, y, test_size=0.33, random_state=seed)\n",
    "\n",
    "# Fit the model\n",
    "model.fit(X_train, y_train, validation_data = (X_test, y_test), epochs = 150, batch_size = 10)"
   ]
  },
  {
   "cell_type": "markdown",
   "metadata": {},
   "source": [
    "#### Manual K-Fold Cross Validation"
   ]
  },
  {
   "cell_type": "code",
   "execution_count": 44,
   "metadata": {},
   "outputs": [
    {
     "name": "stdout",
     "output_type": "stream",
     "text": [
      "accuracy 79.22%\n",
      "accuracy 76.62%\n",
      "accuracy 74.03%\n",
      "accuracy 71.43%\n",
      "accuracy 68.83%\n",
      "accuracy 67.53%\n",
      "accuracy 76.62%\n",
      "accuracy 70.13%\n",
      "accuracy 69.74%\n",
      "accuracy 78.95%\n"
     ]
    }
   ],
   "source": [
    "#Setting a random seed\n",
    "seed = 7\n",
    "np.random.seed(seed)\n",
    "\n",
    "# Seperating predictors and response variable.\n",
    "X = np.array(pima_data.iloc[:,0:8])\n",
    "y = np.array(pima_data.iloc[:,8])\n",
    "\n",
    "# define 10-fold cross validation test harness.\n",
    "kfold = StratifiedKFold(n_splits = 10, shuffle = True, random_state = seed)\n",
    "cvscores = []\n",
    "\n",
    "for train, test in kfold.split(X,y):\n",
    "    model = Sequential()\n",
    "    model.add(Dense(12, input_dim = 8, kernel_initializer = 'uniform', activation = 'relu'))\n",
    "    model.add(Dense(8, kernel_initializer = 'uniform', activation = 'relu'))\n",
    "    model.add(Dense(1, kernel_initializer = 'uniform', activation = 'sigmoid'))\n",
    "    model.compile(loss = 'binary_crossentropy', optimizer = 'adam', metrics = ['accuracy'])\n",
    "    model.fit(X[train], y[train], epochs = 150, batch_size = 10, verbose = 0)\n",
    "    scores = model.evaluate(X[test], y[test], verbose = 0)\n",
    "    print(\"%s %.2f%%\" %(model.metrics_names[1], scores[1] * 100))\n",
    "    cvscores.append(scores[1] * 100)\n",
    "    "
   ]
  },
  {
   "cell_type": "code",
   "execution_count": 45,
   "metadata": {},
   "outputs": [
    {
     "name": "stdout",
     "output_type": "stream",
     "text": [
      "73.31% (+/- 4.11%)\n"
     ]
    }
   ],
   "source": [
    "print(\"%.2f%% (+/- %.2f%%)\" % (np.mean(cvscores), np.std(cvscores)))"
   ]
  },
  {
   "cell_type": "markdown",
   "metadata": {},
   "source": [
    "### Evaluate model using Cross validation\n",
    "\n",
    "Here we will use a wrapper function from keras. This function takes a model as an input. So we need to create a function that create and compile a model."
   ]
  },
  {
   "cell_type": "code",
   "execution_count": 5,
   "metadata": {},
   "outputs": [],
   "source": [
    "#Setting a random seed\n",
    "seed = 7\n",
    "np.random.seed(seed)\n",
    "\n",
    "# Seperating predictors and response variable.\n",
    "X = np.array(pima_data.iloc[:,0:8])\n",
    "y = np.array(pima_data.iloc[:,8])\n",
    "\n",
    "def create_model():\n",
    "    model = Sequential()\n",
    "    model.add(Dense(12, input_dim = 8, kernel_initializer = 'uniform', activation = 'relu'))\n",
    "    model.add(Dense(8, kernel_initializer = 'uniform', activation = 'relu'))\n",
    "    model.add(Dense(1, kernel_initializer = 'uniform', activation = 'sigmoid'))\n",
    "    model.compile(loss = 'binary_crossentropy', optimizer = 'adam', metrics = ['accuracy'])\n",
    "    return model"
   ]
  },
  {
   "cell_type": "code",
   "execution_count": 7,
   "metadata": {},
   "outputs": [],
   "source": [
    "# Create a model from KerasClassifier\n",
    "model = KerasClassifier(build_fn = create_model, nb_epoch = 150, batch_size = 10, verbose = 0)"
   ]
  },
  {
   "cell_type": "code",
   "execution_count": 9,
   "metadata": {},
   "outputs": [
    {
     "name": "stdout",
     "output_type": "stream",
     "text": [
      "0.6497607588768005\n"
     ]
    }
   ],
   "source": [
    "#Evaluate using a 10-fold cross validation.\n",
    "kfold = StratifiedKFold(n_splits = 10, shuffle = True, random_state = seed)\n",
    "results = cross_val_score(model, X, y, cv = kfold)\n",
    "print(results.mean())"
   ]
  },
  {
   "cell_type": "markdown",
   "metadata": {},
   "source": [
    "### Grid Search Deep Learning Model Parameters\n",
    "\n",
    "We are trying to optimize the 4 hyperparameters :-\n",
    "1. Optimizer.\n",
    "2. weight intializer.\n",
    "3. No. of epochs.\n",
    "4. Mini batches."
   ]
  },
  {
   "cell_type": "code",
   "execution_count": 15,
   "metadata": {},
   "outputs": [],
   "source": [
    "#Setting a random seed\n",
    "seed = 7\n",
    "np.random.seed(seed)\n",
    "\n",
    "def create_model(kernel_initializer = 'glorot_uniform', optimizer = 'rmsprop'):\n",
    "    model = Sequential()\n",
    "    model.add(Dense(12, input_dim = 8, kernel_initializer = kernel_initializer, activation = 'relu'))\n",
    "    model.add(Dense(8, kernel_initializer = kernel_initializer, activation = 'relu'))\n",
    "    model.add(Dense(1, kernel_initializer = kernel_initializer, activation = 'sigmoid'))\n",
    "    model.compile(loss = 'binary_crossentropy', optimizer = optimizer, metrics = ['accuracy'])\n",
    "    return model\n",
    "\n",
    "# Create a model from KerasClassifier\n",
    "model = KerasClassifier(build_fn = create_model, verbose = 0)\n",
    "\n",
    "# Grid Search epochs, batch_size and optimizer.\n",
    "optimizers = ['adam','rmsprop']\n",
    "kernel_initializer = ['glorot_uniform', 'normal','uniform']\n",
    "epochs = (50,100,150)\n",
    "batches = (5,10,20)\n",
    "\n",
    "param_grid = dict(optimizer = optimizers, kernel_initializer = kernel_initializer,\n",
    "                 nb_epoch = epochs, batch_size = batches)\n",
    "grid = GridSearchCV(estimator = model, param_grid = param_grid)\n",
    "grid_result = grid.fit(X,y)"
   ]
  },
  {
   "cell_type": "code",
   "execution_count": 16,
   "metadata": {},
   "outputs": [
    {
     "name": "stdout",
     "output_type": "stream",
     "text": [
      "Best search 0.655055 using {'batch_size': 5, 'kernel_initializer': 'normal', 'nb_epoch': 100, 'optimizer': 'adam'}\n"
     ]
    }
   ],
   "source": [
    "print(\"Best search %f using %s\" %(grid_result.best_score_, grid_result.best_params_))"
   ]
  },
  {
   "cell_type": "markdown",
   "metadata": {},
   "source": [
    "## Multiclass Classification\n",
    "### Iris dataset"
   ]
  },
  {
   "cell_type": "code",
   "execution_count": 56,
   "metadata": {},
   "outputs": [
    {
     "data": {
      "text/plain": [
       "(150, 5)"
      ]
     },
     "execution_count": 56,
     "metadata": {},
     "output_type": "execute_result"
    }
   ],
   "source": [
    "url = \"https://raw.githubusercontent.com/atystats/ISLR_Notes_codes/master/Datasets/Iris.csv\"\n",
    "iris = pd.read_csv(url, header = None)\n",
    "iris.shape"
   ]
  },
  {
   "cell_type": "code",
   "execution_count": 57,
   "metadata": {},
   "outputs": [],
   "source": [
    "#Setting a random seed\n",
    "seed = 7\n",
    "np.random.seed(seed)\n",
    "\n",
    "# Seperating predictors and response variable.\n",
    "X = np.array(iris.iloc[:,0:4])\n",
    "y = np.array(iris.iloc[:,4])\n",
    "\n",
    "#Encode string values as numerical\n",
    "encoder = LabelEncoder()\n",
    "encoder.fit(y)\n",
    "encoded_Y = encoder.transform(y)\n",
    "# convert integers to dummy variables (i.e. one hot encoded)\n",
    "dummy_y = np_utils.to_categorical(encoded_Y)"
   ]
  },
  {
   "cell_type": "code",
   "execution_count": 58,
   "metadata": {},
   "outputs": [],
   "source": [
    "# Define baseline function\n",
    "def baseline_model():\n",
    "    model = Sequential()\n",
    "    model.add(Dense(8, input_dim = 4, kernel_initializer = 'normal', activation = 'relu'))\n",
    "    model.add(Dense(3, kernel_initializer = 'normal', activation = 'sigmoid'))\n",
    "    model.compile(loss = 'categorical_crossentropy', optimizer = 'adam', metrics = ['accuracy'])\n",
    "    return model\n",
    "\n",
    "# Create a model from KerasClassifier\n",
    "estimator = KerasClassifier(build_fn = baseline_model, nb_epoch = 200, batch_size = 5, verbose = 0)"
   ]
  },
  {
   "cell_type": "code",
   "execution_count": 59,
   "metadata": {},
   "outputs": [
    {
     "name": "stdout",
     "output_type": "stream",
     "text": [
      "38.00000116229057\n"
     ]
    }
   ],
   "source": [
    "#Evaluate using a 10-fold cross validation.\n",
    "kfold = KFold(n_splits = 10, shuffle = True)\n",
    "results = cross_val_score(estimator, X,  dummy_y, cv = kfold)\n",
    "print(results.mean()*100)"
   ]
  },
  {
   "cell_type": "markdown",
   "metadata": {},
   "source": [
    "### Sonar Object Classification Dataset"
   ]
  },
  {
   "cell_type": "code",
   "execution_count": 60,
   "metadata": {},
   "outputs": [
    {
     "data": {
      "text/plain": [
       "(208, 61)"
      ]
     },
     "execution_count": 60,
     "metadata": {},
     "output_type": "execute_result"
    }
   ],
   "source": [
    "url = \"https://raw.githubusercontent.com/atystats/Deep-Learning-Python---Self-Learning/master/Datasets/Sonar_detection.csv\"\n",
    "sonar = pd.read_csv(url)\n",
    "sonar.shape"
   ]
  },
  {
   "cell_type": "code",
   "execution_count": 61,
   "metadata": {},
   "outputs": [],
   "source": [
    "#Setting a random seed\n",
    "seed = 7\n",
    "np.random.seed(seed)\n",
    "\n",
    "# Seperating predictors and response variable.\n",
    "X = np.array(sonar.iloc[:,0:60])\n",
    "y = np.array(sonar.iloc[:,60])\n",
    "\n",
    "#Encode string values as numerical\n",
    "encoder = LabelEncoder()\n",
    "encoder.fit(y)\n",
    "encoded_Y = encoder.transform(y)"
   ]
  },
  {
   "cell_type": "code",
   "execution_count": 62,
   "metadata": {},
   "outputs": [],
   "source": [
    "# Define baseline function\n",
    "def baseline_model():\n",
    "    model = Sequential()\n",
    "    model.add(Dense(60, input_dim = 60, kernel_initializer = 'normal', activation = 'relu'))\n",
    "    model.add(Dense(1, kernel_initializer = 'normal', activation = 'sigmoid'))\n",
    "    model.compile(loss = 'binary_crossentropy', optimizer = 'adam', metrics = ['accuracy'])\n",
    "    return model\n",
    "\n",
    "# Create a model from KerasClassifier\n",
    "estimator = KerasClassifier(build_fn = baseline_model, nb_epoch = 100, batch_size = 5, verbose = 0)"
   ]
  },
  {
   "cell_type": "code",
   "execution_count": 63,
   "metadata": {},
   "outputs": [
    {
     "name": "stdout",
     "output_type": "stream",
     "text": [
      "53.85714530944824\n"
     ]
    }
   ],
   "source": [
    "#Evaluate using a 10-fold cross validation.\n",
    "kfold = StratifiedKFold(n_splits = 10, shuffle = True, random_state = seed)\n",
    "results = cross_val_score(estimator, X,  encoded_Y, cv = kfold)\n",
    "print(results.mean()*100)"
   ]
  },
  {
   "cell_type": "markdown",
   "metadata": {},
   "source": [
    "One way to improve the Neural networks to have a consistent input values, both in scale and distribution. We will standardize the input values first."
   ]
  },
  {
   "cell_type": "code",
   "execution_count": 65,
   "metadata": {},
   "outputs": [],
   "source": [
    "# evaluate baseline model with standardized dataset.\n",
    "estimators = []\n",
    "estimators.append((\"standardize\", StandardScaler()))\n",
    "estimators.append((\"mlp\", KerasClassifier(build_fn = baseline_model, nb_epoch = 100, batch_size = 5, verbose = 0)))\n",
    "pipeline = Pipeline(estimators)"
   ]
  },
  {
   "cell_type": "code",
   "execution_count": 66,
   "metadata": {},
   "outputs": [
    {
     "name": "stdout",
     "output_type": "stream",
     "text": [
      "71.11904919147491\n"
     ]
    }
   ],
   "source": [
    "# Evaluate using a 10-fold cross validation.\n",
    "kfold = StratifiedKFold(n_splits = 10, shuffle = True, random_state = seed)\n",
    "results = cross_val_score(pipeline, X,  encoded_Y, cv = kfold)\n",
    "print(results.mean()*100)"
   ]
  },
  {
   "cell_type": "markdown",
   "metadata": {},
   "source": [
    "## Tuning Layers and neurons in the model\n",
    "\n",
    "### Evaluating a Smaller Network\n",
    "We will try with less no of neurons in the hidden layer."
   ]
  },
  {
   "cell_type": "code",
   "execution_count": 68,
   "metadata": {},
   "outputs": [
    {
     "name": "stdout",
     "output_type": "stream",
     "text": [
      "74.52381074428558\n"
     ]
    }
   ],
   "source": [
    "# Define baseline function\n",
    "def create_smaller():\n",
    "    model = Sequential()\n",
    "    model.add(Dense(30, input_dim = 60, kernel_initializer = 'normal', activation = 'relu'))\n",
    "    model.add(Dense(1, kernel_initializer = 'normal', activation = 'sigmoid'))\n",
    "    model.compile(loss = 'binary_crossentropy', optimizer = 'adam', metrics = ['accuracy'])\n",
    "    return model\n",
    "\n",
    "# evaluate baseline model with standardized dataset.\n",
    "estimators = []\n",
    "estimators.append((\"standardize\", StandardScaler()))\n",
    "estimators.append((\"mlp\", KerasClassifier(build_fn = create_smaller, nb_epoch = 100, batch_size = 5, verbose = 0)))\n",
    "pipeline = Pipeline(estimators)\n",
    "\n",
    "# Evaluate using a 10-fold cross validation.\n",
    "kfold = StratifiedKFold(n_splits = 10, shuffle = True, random_state = seed)\n",
    "results = cross_val_score(pipeline, X,  encoded_Y, cv = kfold)\n",
    "print(results.mean()*100)"
   ]
  },
  {
   "cell_type": "markdown",
   "metadata": {},
   "source": [
    "### Evaluating a Larger Network\n",
    "We will try with less one more hidden layer in the network."
   ]
  },
  {
   "cell_type": "code",
   "execution_count": 70,
   "metadata": {},
   "outputs": [
    {
     "name": "stdout",
     "output_type": "stream",
     "text": [
      "76.90476298332214\n"
     ]
    }
   ],
   "source": [
    "# Define baseline function\n",
    "def create_larger():\n",
    "    model = Sequential()\n",
    "    model.add(Dense(60, input_dim = 60, kernel_initializer = 'normal', activation = 'relu'))\n",
    "    model.add(Dense(30, kernel_initializer = 'normal', activation = 'relu'))\n",
    "    model.add(Dense(1, kernel_initializer = 'normal', activation = 'sigmoid'))\n",
    "    model.compile(loss = 'binary_crossentropy', optimizer = 'adam', metrics = ['accuracy'])\n",
    "    return model\n",
    "\n",
    "# evaluate baseline model with standardized dataset.\n",
    "estimators = []\n",
    "estimators.append((\"standardize\", StandardScaler()))\n",
    "estimators.append((\"mlp\", KerasClassifier(build_fn = create_larger, nb_epoch = 100, batch_size = 5, verbose = 0)))\n",
    "pipeline = Pipeline(estimators)\n",
    "\n",
    "# Evaluate using a 10-fold cross validation.\n",
    "kfold = StratifiedKFold(n_splits = 10, shuffle = True, random_state = seed)\n",
    "results = cross_val_score(pipeline, X,  encoded_Y, cv = kfold)\n",
    "print(results.mean()*100)"
   ]
  },
  {
   "cell_type": "markdown",
   "metadata": {},
   "source": [
    "## Neural Networks for Regression using keras\n",
    "\n",
    "### Boston Housing Prices"
   ]
  },
  {
   "cell_type": "code",
   "execution_count": 74,
   "metadata": {},
   "outputs": [
    {
     "data": {
      "text/plain": [
       "(506, 14)"
      ]
     },
     "execution_count": 74,
     "metadata": {},
     "output_type": "execute_result"
    }
   ],
   "source": [
    "url = \"https://raw.githubusercontent.com/atystats/Deep-Learning-Python---Self-Learning/master/Datasets/Boston_Housing_Data.csv\"\n",
    "Boston = pd.read_csv(url, header = None)\n",
    "Boston.shape"
   ]
  },
  {
   "cell_type": "code",
   "execution_count": 84,
   "metadata": {},
   "outputs": [],
   "source": [
    "#Setting a random seed\n",
    "seed = 7\n",
    "np.random.seed(seed)\n",
    "\n",
    "# Seperating predictors and response variable.\n",
    "X = Boston.values[:,0:13]\n",
    "y = Boston.values[:,13]"
   ]
  },
  {
   "cell_type": "code",
   "execution_count": 97,
   "metadata": {},
   "outputs": [],
   "source": [
    "# Define baseline function\n",
    "def baseline_model():\n",
    "    model = Sequential()\n",
    "    model.add(Dense(13, input_dim = 13, kernel_initializer = 'normal', activation = 'relu'))\n",
    "    model.add(Dense(1, kernel_initializer = 'normal')) # Don't need to transform weighted output in output layer.\n",
    "    model.compile(loss = 'mean_squared_error', optimizer = 'adam')\n",
    "    return model\n",
    "\n",
    "# Create a model from KerasClassifier\n",
    "estimator = KerasRegressor(build_fn = baseline_model, nb_epoch = 50, batch_size = 5, verbose = 0)"
   ]
  },
  {
   "cell_type": "code",
   "execution_count": 98,
   "metadata": {},
   "outputs": [
    {
     "name": "stdout",
     "output_type": "stream",
     "text": [
      "119.29964818667266\n"
     ]
    }
   ],
   "source": [
    "# Evaluate using a 10-fold cross validation.\n",
    "kfold = KFold(n_splits = 10, random_state = seed, shuffle = True)\n",
    "results = cross_val_score(estimator, X,  y, cv = kfold)\n",
    "print(-1 * results.mean())"
   ]
  },
  {
   "cell_type": "markdown",
   "metadata": {},
   "source": [
    "Let's try the same with standardized variables."
   ]
  },
  {
   "cell_type": "code",
   "execution_count": 99,
   "metadata": {},
   "outputs": [],
   "source": [
    "# evaluate baseline model with standardized dataset.\n",
    "estimators = []\n",
    "estimators.append((\"standardize\", StandardScaler()))\n",
    "estimators.append((\"mlp\", KerasRegressor(build_fn = baseline_model, nb_epoch = 50, batch_size = 5, verbose = 0)))\n",
    "pipeline = Pipeline(estimators)"
   ]
  },
  {
   "cell_type": "code",
   "execution_count": 100,
   "metadata": {},
   "outputs": [
    {
     "name": "stdout",
     "output_type": "stream",
     "text": [
      "573.0206865018956\n"
     ]
    }
   ],
   "source": [
    "# Evaluate using a 10-fold cross validation.\n",
    "kfold = KFold(n_splits = 10, random_state = seed, shuffle = True)\n",
    "results = cross_val_score(pipeline, X,  y, cv = kfold)\n",
    "print(-1 * results.mean())"
   ]
  },
  {
   "cell_type": "markdown",
   "metadata": {},
   "source": [
    "We will try a __deeper network.__"
   ]
  },
  {
   "cell_type": "code",
   "execution_count": 101,
   "metadata": {},
   "outputs": [
    {
     "name": "stdout",
     "output_type": "stream",
     "text": [
      "572.0729478783701\n"
     ]
    }
   ],
   "source": [
    "# Define baseline function\n",
    "def baseline_model():\n",
    "    model = Sequential()\n",
    "    model.add(Dense(13, input_dim = 13, kernel_initializer = 'normal', activation = 'relu'))\n",
    "    model.add(Dense(6, kernel_initializer = 'normal', activation = 'relu'))\n",
    "    model.add(Dense(1, kernel_initializer = 'normal')) # Don't need to transform weighted output in output layer.\n",
    "    model.compile(loss = 'mean_squared_error', optimizer = 'adam')\n",
    "    return model\n",
    "\n",
    "# Create a model from KerasClassifier\n",
    "estimator = KerasRegressor(build_fn = baseline_model, nb_epoch = 50, batch_size = 5, verbose = 0)\n",
    "\n",
    "# evaluate baseline model with standardized dataset.\n",
    "estimators = []\n",
    "estimators.append((\"standardize\", StandardScaler()))\n",
    "estimators.append((\"mlp\", KerasRegressor(build_fn = baseline_model, nb_epoch = 50, batch_size = 5, verbose = 0)))\n",
    "pipeline = Pipeline(estimators)\n",
    "\n",
    "# Evaluate using a 10-fold cross validation.\n",
    "kfold = KFold(n_splits = 10, random_state = seed, shuffle = True)\n",
    "results = cross_val_score(pipeline, X,  y, cv = kfold)\n",
    "print(-1 * results.mean())"
   ]
  },
  {
   "cell_type": "markdown",
   "metadata": {},
   "source": [
    "We will try a __wider network topology.__"
   ]
  },
  {
   "cell_type": "code",
   "execution_count": 102,
   "metadata": {},
   "outputs": [
    {
     "name": "stdout",
     "output_type": "stream",
     "text": [
      "561.6449495203354\n"
     ]
    }
   ],
   "source": [
    "# Define baseline function\n",
    "def baseline_model():\n",
    "    model = Sequential()\n",
    "    model.add(Dense(20, input_dim = 13, kernel_initializer = 'normal', activation = 'relu'))\n",
    "    model.add(Dense(1, kernel_initializer = 'normal')) # Don't need to transform weighted output in output layer.\n",
    "    model.compile(loss = 'mean_squared_error', optimizer = 'adam')\n",
    "    return model\n",
    "\n",
    "# Create a model from KerasClassifier\n",
    "estimator = KerasRegressor(build_fn = baseline_model, nb_epoch = 50, batch_size = 5, verbose = 0)\n",
    "\n",
    "# evaluate baseline model with standardized dataset.\n",
    "estimators = []\n",
    "estimators.append((\"standardize\", StandardScaler()))\n",
    "estimators.append((\"mlp\", KerasRegressor(build_fn = baseline_model, nb_epoch = 50, batch_size = 5, verbose = 0)))\n",
    "pipeline = Pipeline(estimators)\n",
    "\n",
    "# Evaluate using a 10-fold cross validation.\n",
    "kfold = KFold(n_splits = 10, random_state = seed, shuffle = True)\n",
    "results = cross_val_score(pipeline, X,  y, cv = kfold)\n",
    "print(-1 * results.mean())"
   ]
  },
  {
   "cell_type": "markdown",
   "metadata": {},
   "source": [
    "## Understand model behavior during training by plotting history "
   ]
  },
  {
   "cell_type": "code",
   "execution_count": null,
   "metadata": {},
   "outputs": [],
   "source": []
  }
 ],
 "metadata": {
  "kernelspec": {
   "display_name": "Python 3",
   "language": "python",
   "name": "python3"
  },
  "language_info": {
   "codemirror_mode": {
    "name": "ipython",
    "version": 3
   },
   "file_extension": ".py",
   "mimetype": "text/x-python",
   "name": "python",
   "nbconvert_exporter": "python",
   "pygments_lexer": "ipython3",
   "version": "3.6.9"
  }
 },
 "nbformat": 4,
 "nbformat_minor": 4
}
