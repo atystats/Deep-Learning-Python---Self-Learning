{
 "cells": [
  {
   "cell_type": "markdown",
   "metadata": {},
   "source": [
    "# Convolutional Neural Network\n",
    "\n",
    "__1. Image Input Data :-__\n",
    "\n",
    "Let’s assume we have a dataset of gray scale images. Each image has the same size of 32 pixels wide and 32 pixels high, and pixel values are between 0 and 255, e.g. a matrix of 32 X 32 X 1 or 1,024 pixel values. Image input data is expressed as a 3-dimensional matrix of width X height X channels. If we were using color images in our example, we would have 3 channels for the red, green and blue pixel values, e.g. 32 X 32 X 3.\n",
    "\n",
    "__2. Convolutional Layer :-__\n",
    "\n",
    "We define a convolutional layer with 10 filters and a receptive field 5 pixels wide and 5 pixels high and a stride length of 1. Because each filter can only get input from (i.e. see) 5 X 5 (25) pixels at a time, we can calculate that each will require 25 + 1 input weights (plus 1 for the bias input). Dragging the 5 X 5 receptive field across the input image data with a stride width of 1 will result in a feature map of 28 X 28 output values or 784 distinct activations per image.\n",
    "We have 10 filters, so that is 10 different 28 X 28 feature maps or 7,840 outputs that will be created for one image. Finally, we know we have 26 inputs per filter, 10 filters and 28 X 28 output values to calculate per filter, therefore we have a total of 26 X 10 X 28 X 28 or 203,840 connections in our convolutional layer, we want to phrase it using traditional neural network nomenclature. Convolutional layers also make use of a nonlinear transfer function as part of activation and the rectifier activation function is the popular default to use.\n",
    "\n",
    "__3. Pool Layer :-__\n",
    "\n",
    "We define a pooling layer with a receptive field with a width of 2 inputs and a height of 2 inputs. We also use a stride of 2 to ensure that there is no overlap. This results in feature maps that are one half the size of the input feature maps. From 10 different 28 X 28 feature maps as input to 10 different 14 X 14 feature maps as output. We will use a max() operation for each receptive field so that the activation is the maximum input value.\n",
    "\n",
    "__4. Fully Connected Layer :-__\n",
    "Finally, we can flatten out the square feature maps into a traditional flat fully connected layer. We can define the fully connected layer with 200 hidden neurons, each with 10 ⇥ 14 ⇥ 14 input connections, or 1,960 + 1 weights per neuron. That is a total of 392,200 connections and weights to learn in this layer. We can use a sigmoid or softmax transfer function to output probabilities of class values directly.\n",
    "\n",
    "\n",
    "## Best Practices in CNN \n",
    "\n",
    "1. __Receptive Field Size__: The patch should be as small as possible, but large enough to see features in the input data. It is common to use 3 X 3 on small images and 5 X 5 or 7 X 7 and more on larger image sizes.\n",
    "2. __Stride Width__: Use the default stride of 1. It is easy to understand and you don’t need padding to handle the receptive field falling off the edge of your images. This could be increased to 2 or larger for larger images.\n",
    "3. __Number of Filters__: Filters are the feature detectors. Generally fewer filters are used at the input layer and increasingly more filters used at deeper layers.\n",
    "4. __Padding__: Set to zero and called zero padding when reading non-input data. This is useful when you cannot or do not want to standardize input image sizes or when you want to use receptive field and stride sizes that do not neatly divide up the input image size.\n",
    "5. __Pooling__: Pooling is a destructive or generalization process to reduce overfitting. Receptive field size is almost always set to 2 X 2 with a stride of 2 to discard 75% of the activations from the output of the previous layer.\n",
    "6. __Pattern Architecture__: It is common to pattern the layers in your network architecture. This might be one, two or some number of convolutional layers followed by a pooling layer. This structure can then be repeated one or more times. Finally, fully connected layers are often only used at the output end and may be stacked one, two or more deep.\n",
    "7. __Dropout__: CNNs have a habit of overfitting, even with pooling layers. Dropout should be used such as between fully connected layers and perhaps after pooling layers."
   ]
  },
  {
   "cell_type": "markdown",
   "metadata": {},
   "source": [
    "## Handwritten Digit Recognition"
   ]
  },
  {
   "cell_type": "code",
   "execution_count": 19,
   "metadata": {},
   "outputs": [],
   "source": [
    "import numpy as np\n",
    "import pandas as pd\n",
    "\n",
    "#Import from keras\n",
    "from keras.datasets import mnist\n",
    "from keras.models import Sequential\n",
    "from keras.layers import Dense, Dropout, Flatten\n",
    "from keras.utils import np_utils\n",
    "from keras.layers.convolutional import Convolution2D, MaxPooling2D, Conv2D\n",
    "\n",
    "#import from matplotlib\n",
    "import matplotlib.pyplot as plt"
   ]
  },
  {
   "cell_type": "code",
   "execution_count": 2,
   "metadata": {},
   "outputs": [],
   "source": [
    "# loading the MNIST dataset\n",
    "(X_train, y_train) , (X_test, y_test) = mnist.load_data()"
   ]
  },
  {
   "cell_type": "code",
   "execution_count": 3,
   "metadata": {},
   "outputs": [
    {
     "data": {
      "image/png": "[encoded data removed]",
      "text/plain": [
       "<Figure size 432x288 with 4 Axes>"
      ]
     },
     "metadata": {
      "needs_background": "light"
     },
     "output_type": "display_data"
    }
   ],
   "source": [
    "# Plotting few examples\n",
    "plt.subplot(221)\n",
    "plt.imshow(X_train[0], cmap = plt.get_cmap('gray'))\n",
    "plt.subplot(222)\n",
    "plt.imshow(X_train[1], cmap = plt.get_cmap('gray'))\n",
    "plt.subplot(223)\n",
    "plt.imshow(X_train[2], cmap = plt.get_cmap('gray'))\n",
    "plt.subplot(224)\n",
    "plt.imshow(X_train[3], cmap = plt.get_cmap('gray'))\n",
    "plt.show()"
   ]
  },
  {
   "cell_type": "markdown",
   "metadata": {},
   "source": [
    "We will first build a multilayer perceptron model.\n",
    "\n",
    "## Baseline model using Multilayer Perceptron"
   ]
  },
  {
   "cell_type": "code",
   "execution_count": 4,
   "metadata": {},
   "outputs": [],
   "source": [
    "# Setting the random seed\n",
    "seed = 7\n",
    "np.random.seed(seed)"
   ]
  },
  {
   "cell_type": "code",
   "execution_count": 5,
   "metadata": {},
   "outputs": [],
   "source": [
    "# loading the MNIST dataset\n",
    "(X_train, y_train) , (X_test, y_test) = mnist.load_data()"
   ]
  },
  {
   "cell_type": "code",
   "execution_count": 6,
   "metadata": {},
   "outputs": [],
   "source": [
    "# flatten the 28 X 28 image to a 784 vector for each image\n",
    "num_pixels = X_train.shape[1] * X_train.shape[2]\n",
    "X_train = X_train.reshape(X_train.shape[0], num_pixels).astype(\"float32\")\n",
    "X_test = X_test.reshape(X_test.shape[0], num_pixels).astype(\"float32\")"
   ]
  },
  {
   "cell_type": "code",
   "execution_count": 7,
   "metadata": {},
   "outputs": [],
   "source": [
    "# Scaling of the input variables from 0-255 to 0-1.\n",
    "X_train = X_train/255\n",
    "X_test = X_test/255"
   ]
  },
  {
   "cell_type": "code",
   "execution_count": 8,
   "metadata": {},
   "outputs": [],
   "source": [
    "# one hot encode outputs\n",
    "y_train = np_utils.to_categorical(y_train)\n",
    "y_test = np_utils.to_categorical(y_test)\n",
    "num_classes = y_test.shape[1]"
   ]
  },
  {
   "cell_type": "code",
   "execution_count": 9,
   "metadata": {},
   "outputs": [],
   "source": [
    "# Define the baseline model\n",
    "def baseline_model():\n",
    "    #Create Model\n",
    "    model = Sequential()\n",
    "    model.add(Dense(num_pixels, input_dim = num_pixels, kernel_initializer = 'normal', activation = 'relu'))\n",
    "    model.add(Dense(num_classes, kernel_initializer = 'normal', activation = 'softmax'))\n",
    "    # Compile Model\n",
    "    model.compile(loss = 'categorical_crossentropy', optimizer = 'adam', metrics = ['accuracy'])\n",
    "    return model"
   ]
  },
  {
   "cell_type": "code",
   "execution_count": 10,
   "metadata": {},
   "outputs": [
    {
     "name": "stdout",
     "output_type": "stream",
     "text": [
      "Train on 60000 samples, validate on 10000 samples\n",
      "Epoch 1/10\n",
      " - 5s - loss: 0.2798 - accuracy: 0.9208 - val_loss: 0.1412 - val_accuracy: 0.9572\n",
      "Epoch 2/10\n",
      " - 5s - loss: 0.1116 - accuracy: 0.9675 - val_loss: 0.0919 - val_accuracy: 0.9704\n",
      "Epoch 3/10\n",
      " - 5s - loss: 0.0717 - accuracy: 0.9798 - val_loss: 0.0781 - val_accuracy: 0.9777\n",
      "Epoch 4/10\n",
      " - 5s - loss: 0.0503 - accuracy: 0.9858 - val_loss: 0.0742 - val_accuracy: 0.9772\n",
      "Epoch 5/10\n",
      " - 6s - loss: 0.0372 - accuracy: 0.9893 - val_loss: 0.0686 - val_accuracy: 0.9786\n",
      "Epoch 6/10\n",
      " - 6s - loss: 0.0269 - accuracy: 0.9928 - val_loss: 0.0619 - val_accuracy: 0.9807\n",
      "Epoch 7/10\n",
      " - 6s - loss: 0.0205 - accuracy: 0.9950 - val_loss: 0.0611 - val_accuracy: 0.9811\n",
      "Epoch 8/10\n",
      " - 5s - loss: 0.0141 - accuracy: 0.9969 - val_loss: 0.0621 - val_accuracy: 0.9806\n",
      "Epoch 9/10\n",
      " - 5s - loss: 0.0107 - accuracy: 0.9979 - val_loss: 0.0578 - val_accuracy: 0.9812\n",
      "Epoch 10/10\n",
      " - 5s - loss: 0.0079 - accuracy: 0.9986 - val_loss: 0.0581 - val_accuracy: 0.9812\n",
      "Baseline Error: 1.88%\n"
     ]
    }
   ],
   "source": [
    "# Build the model\n",
    "model = baseline_model()\n",
    "# Fit the model\n",
    "model.fit(X_train, y_train, validation_data = (X_test, y_test), \n",
    "          epochs = 10, batch_size = 200, verbose = 2)\n",
    "\n",
    "# Evaluation of the model\n",
    "scores = model.evaluate(X_test, y_test, verbose = 0)\n",
    "print(\"Baseline Error: %.2f%%\" %(100- scores[1] * 100))"
   ]
  },
  {
   "cell_type": "markdown",
   "metadata": {},
   "source": [
    "The error from baseline model is 1.88%."
   ]
  },
  {
   "cell_type": "markdown",
   "metadata": {},
   "source": [
    "## Simple Convolutional Neural Network "
   ]
  },
  {
   "cell_type": "code",
   "execution_count": 39,
   "metadata": {},
   "outputs": [],
   "source": [
    "# Setting the random seed\n",
    "seed = 7\n",
    "np.random.seed(seed)\n",
    "\n",
    "# loading the MNIST dataset\n",
    "(X_train, y_train) , (X_test, y_test) = mnist.load_data()\n",
    "\n",
    "# reshape to be [samples][channels][width][height]\n",
    "X_train = X_train.reshape(X_train.shape[0], 28, 28, 1).astype(\"float32\")\n",
    "X_test = X_test.reshape(X_test.shape[0], 28, 28, 1).astype(\"float32\")"
   ]
  },
  {
   "cell_type": "code",
   "execution_count": 40,
   "metadata": {},
   "outputs": [],
   "source": [
    "# Scaling of the input variables from 0-255 to 0-1.\n",
    "X_train = X_train/255\n",
    "X_test = X_test/255\n",
    "\n",
    "# one hot encode outputs\n",
    "y_train = np_utils.to_categorical(y_train)\n",
    "y_test = np_utils.to_categorical(y_test)\n",
    "num_classes = y_test.shape[1]"
   ]
  },
  {
   "cell_type": "markdown",
   "metadata": {},
   "source": [
    "#### Our CNN structure\n",
    "\n",
    "1. The first hidden layer is a convolution layer. The layer has 32 feature map, which with the size of 5 X 5 and a rectifier activation function.\n",
    "\n",
    "2. A pooling layer with a pool size of 2 X 2.\n",
    "\n",
    "3. The next layer is a regularization layer using dropout.\n",
    "\n",
    "4. Next is a layer that converts the 2D matrix data to a vector called Flatten.\n",
    "\n",
    "5. Next a fully connected layer with 128 neurons and rectifier activation function is used.\n",
    "\n",
    "6. The output layer has 10 neurons for the 10 classes and a softmax activation function."
   ]
  },
  {
   "cell_type": "code",
   "execution_count": 43,
   "metadata": {},
   "outputs": [],
   "source": [
    "def baseline_model():\n",
    "    model = Sequential()\n",
    "    model.add(Conv2D(32, (5,5), padding='valid', input_shape = (28,28,1),\n",
    "                     activation = 'relu'))\n",
    "    model.add(MaxPooling2D(pool_size = (2,2)))\n",
    "    model.add(Dropout(0.2))\n",
    "    model.add(Flatten())\n",
    "    model.add(Dense(128, activation = 'relu'))\n",
    "    model.add(Dense(num_classes, activation = 'softmax'))\n",
    "    \n",
    "    model.compile(loss = 'categorical_crossentropy', optimizer = 'adam', metrics = ['accuracy'])\n",
    "    return model"
   ]
  },
  {
   "cell_type": "code",
   "execution_count": 44,
   "metadata": {},
   "outputs": [
    {
     "name": "stdout",
     "output_type": "stream",
     "text": [
      "Train on 60000 samples, validate on 10000 samples\n",
      "Epoch 1/10\n",
      " - 43s - loss: 0.2515 - accuracy: 0.9273 - val_loss: 0.0949 - val_accuracy: 0.9721\n",
      "Epoch 2/10\n",
      " - 45s - loss: 0.0782 - accuracy: 0.9764 - val_loss: 0.0524 - val_accuracy: 0.9829\n",
      "Epoch 3/10\n",
      " - 43s - loss: 0.0532 - accuracy: 0.9844 - val_loss: 0.0417 - val_accuracy: 0.9861\n",
      "Epoch 4/10\n",
      " - 43s - loss: 0.0418 - accuracy: 0.9876 - val_loss: 0.0381 - val_accuracy: 0.9873\n",
      "Epoch 5/10\n",
      " - 42s - loss: 0.0343 - accuracy: 0.9896 - val_loss: 0.0401 - val_accuracy: 0.9872\n",
      "Epoch 6/10\n",
      " - 43s - loss: 0.0277 - accuracy: 0.9914 - val_loss: 0.0369 - val_accuracy: 0.9882\n",
      "Epoch 7/10\n",
      " - 44s - loss: 0.0237 - accuracy: 0.9924 - val_loss: 0.0336 - val_accuracy: 0.9892\n",
      "Epoch 8/10\n",
      " - 45s - loss: 0.0189 - accuracy: 0.9940 - val_loss: 0.0322 - val_accuracy: 0.9899\n",
      "Epoch 9/10\n",
      " - 45s - loss: 0.0168 - accuracy: 0.9947 - val_loss: 0.0323 - val_accuracy: 0.9898\n",
      "Epoch 10/10\n",
      " - 45s - loss: 0.0137 - accuracy: 0.9954 - val_loss: 0.0368 - val_accuracy: 0.9891\n",
      "Baseline Error: 1.09%\n"
     ]
    }
   ],
   "source": [
    "# Build the model\n",
    "model = baseline_model()\n",
    "# Fit the model\n",
    "model.fit(X_train, y_train, validation_data = (X_test, y_test), epochs = 10, batch_size = 200, verbose = 2)\n",
    "\n",
    "# Evaluation of the model\n",
    "scores = model.evaluate(X_test, y_test, verbose = 0)\n",
    "print(\"Baseline Error: %.2f%%\" %(100- scores[1] * 100))"
   ]
  },
  {
   "cell_type": "markdown",
   "metadata": {},
   "source": [
    "The error has reduced to 1.09%, which is lesser than what we got with multilayer perceptron model above."
   ]
  },
  {
   "cell_type": "code",
   "execution_count": null,
   "metadata": {},
   "outputs": [],
   "source": []
  }
 ],
 "metadata": {
  "kernelspec": {
   "display_name": "Python 3",
   "language": "python",
   "name": "python3"
  },
  "language_info": {
   "codemirror_mode": {
    "name": "ipython",
    "version": 3
   },
   "file_extension": ".py",
   "mimetype": "text/x-python",
   "name": "python",
   "nbconvert_exporter": "python",
   "pygments_lexer": "ipython3",
   "version": "3.6.9"
  }
 },
 "nbformat": 4,
 "nbformat_minor": 4
}
