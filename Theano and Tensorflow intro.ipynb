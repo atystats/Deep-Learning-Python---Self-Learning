{
 "cells": [
  {
   "cell_type": "code",
   "execution_count": 19,
   "metadata": {},
   "outputs": [],
   "source": [
    "import theano\n",
    "from theano import tensor\n",
    "import tensorflow as tf\n",
    "import os\n",
    "import inspect"
   ]
  },
  {
   "cell_type": "code",
   "execution_count": 5,
   "metadata": {},
   "outputs": [],
   "source": [
    "# declare 2 floating point scalar\n",
    "a = tensor.dscalar()\n",
    "b = tensor.dscalar()\n",
    "# Creating a symbolic expression\n",
    "c = a + b"
   ]
  },
  {
   "cell_type": "code",
   "execution_count": 8,
   "metadata": {},
   "outputs": [
    {
     "name": "stdout",
     "output_type": "stream",
     "text": [
      "8.0\n"
     ]
    }
   ],
   "source": [
    "f = theano.function([a,b],c)\n",
    "print(f(2,6))"
   ]
  },
  {
   "cell_type": "code",
   "execution_count": 17,
   "metadata": {},
   "outputs": [
    {
     "name": "stdout",
     "output_type": "stream",
     "text": [
      "4.0\n"
     ]
    }
   ],
   "source": [
    "tf.compat.v1.disable_eager_execution()\n",
    "# declare 2 floating point scalar\n",
    "a = tf.compat.v1.placeholder(tf.float32)\n",
    "b = tf.compat.v1.placeholder(tf.float32)\n",
    "# Creating a symbolic expression using the add function\n",
    "add = tf.add(a,b)\n",
    "sess = tf.compat.v1.Session()\n",
    "# bind 1.5 to a and 2.5 to b and evaluate c.\n",
    "binding = {a:1.5, b:2.5}\n",
    "c = sess.run(add, feed_dict = binding)\n",
    "print(c)"
   ]
  },
  {
   "cell_type": "code",
   "execution_count": 21,
   "metadata": {},
   "outputs": [
    {
     "name": "stdout",
     "output_type": "stream",
     "text": [
      "/Users/atyagi/anaconda3/lib/python3.6/site-packages/tensorflow\n"
     ]
    }
   ],
   "source": [
    "print(os.path.dirname(inspect.getfile(tf)))"
   ]
  }
 ],
 "metadata": {
  "kernelspec": {
   "display_name": "Python 3",
   "language": "python",
   "name": "python3"
  },
  "language_info": {
   "codemirror_mode": {
    "name": "ipython",
    "version": 3
   },
   "file_extension": ".py",
   "mimetype": "text/x-python",
   "name": "python",
   "nbconvert_exporter": "python",
   "pygments_lexer": "ipython3",
   "version": "3.6.9"
  }
 },
 "nbformat": 4,
 "nbformat_minor": 4
}
